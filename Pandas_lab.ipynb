{
 "cells": [
  {
   "cell_type": "markdown",
   "metadata": {
    "toc": "true"
   },
   "source": [
    "<h1>Table of Contents<span class=\"tocSkip\"></span></h1>\n",
    "<div class=\"toc\"><ul class=\"toc-item\"><li><span><a href=\"#Business-Intelligence-Laboratory-2022---Pandas\" data-toc-modified-id=\"Business-Intelligence-Laboratory-2022---Pandas-1\">Business Intelligence Laboratory 2022 - Pandas</a></span></li><li><span><a href=\"#REPLACE-THIS-WITH-YOUR-NAME-(NEPTUN)\" data-toc-modified-id=\"REPLACE-THIS-WITH-YOUR-NAME-(NEPTUN)-2\">REPLACE THIS WITH YOUR NAME (NEPTUN)</a></span><ul class=\"toc-item\"><li><span><a href=\"#REPLACE-with-today's-date\" data-toc-modified-id=\"REPLACE-with-today's-date-2.1\">REPLACE with today's date</a></span></li><li><span><a href=\"#General-information\" data-toc-modified-id=\"General-information-2.2\">General information</a></span><ul class=\"toc-item\"><li><span><a href=\"#Submission\" data-toc-modified-id=\"Submission-2.2.1\">Submission</a></span></li><li><span><a href=\"#Tips\" data-toc-modified-id=\"Tips-2.2.2\">Tips</a></span></li><li><span><a href=\"#Feedback\" data-toc-modified-id=\"Feedback-2.2.3\">Feedback</a></span></li></ul></li><li><span><a href=\"#Code-quality\" data-toc-modified-id=\"Code-quality-2.3\">Code quality</a></span></li><li><span><a href=\"#Figure-quality\" data-toc-modified-id=\"Figure-quality-2.4\">Figure quality</a></span></li></ul></li><li><span><a href=\"#Data-preparation\" data-toc-modified-id=\"Data-preparation-3\">Data preparation</a></span></li><li><span><a href=\"#Exploring-the-dataset\" data-toc-modified-id=\"Exploring-the-dataset-4\">Exploring the dataset</a></span></li><li><span><a href=\"#Basic-queries\" data-toc-modified-id=\"Basic-queries-5\">Basic queries</a></span><ul class=\"toc-item\"><li><span><a href=\"#Which-movies-were-released-in-1956?\" data-toc-modified-id=\"Which-movies-were-released-in-1956?-5.1\">Which movies were released in 1956?</a></span></li><li><span><a href=\"#How-many-movies-were-released-in-the-80s?\" data-toc-modified-id=\"How-many-movies-were-released-in-the-80s?-5.2\">How many movies were released in the 80s?</a></span></li><li><span><a href=\"#When-were-the-Die-Hard-movies-released?\" data-toc-modified-id=\"When-were-the-Die-Hard-movies-released?-5.3\">When were the Die Hard movies released?</a></span></li><li><span><a href=\"#How-many-movies-are-both-action-and-romance?-What-about-action-or-romance?\" data-toc-modified-id=\"How-many-movies-are-both-action-and-romance?-What-about-action-or-romance?-5.4\">How many movies are both action and romance? What about action or romance?</a></span></li></ul></li><li><span><a href=\"#Task-1:-Simple-queries\" data-toc-modified-id=\"Task-1:-Simple-queries-6\">Task 1: Simple queries</a></span><ul class=\"toc-item\"><li><span><a href=\"#Q1.1-Are-there-dramas-for-children?-(2-points)\" data-toc-modified-id=\"Q1.1-Are-there-dramas-for-children?-(2-points)-6.1\">Q1.1 Are there dramas for children? (2 points)</a></span></li><li><span><a href=\"#Q1.2-What-is-the-oldest-movie?-(2-points)\" data-toc-modified-id=\"Q1.2-What-is-the-oldest-movie?-(2-points)-6.2\">Q1.2 What is the oldest movie? (2 points)</a></span></li><li><span><a href=\"#Q1.3-What-is-the-frequency-of-each-genre?-In-other-words-how-many-movies-are-tagged-as-action,-drama-etc.-(2-points)\" data-toc-modified-id=\"Q1.3-What-is-the-frequency-of-each-genre?-In-other-words-how-many-movies-are-tagged-as-action,-drama-etc.-(2-points)-6.3\">Q1.3 What is the frequency of each genre? In other words how many movies are tagged as action, drama etc. (2 points)</a></span></li><li><span><a href=\"#Q1.4-How-many-genres-does-each-movie-have?-(3-points)\" data-toc-modified-id=\"Q1.4-How-many-genres-does-each-movie-have?-(3-points)-6.4\">Q1.4 How many genres does each movie have? (3 points)</a></span></li><li><span><a href=\"#Q1.5-Which-movies-have-the-most-genres?-(3-points)\" data-toc-modified-id=\"Q1.5-Which-movies-have-the-most-genres?-(3-points)-6.5\">Q1.5 Which movies have the most genres? (3 points)</a></span></li><li><span><a href=\"#Q1.6*-Extract-the-list-of-genres-as-a-comma-separated-string.-(4-points)\" data-toc-modified-id=\"Q1.6*-Extract-the-list-of-genres-as-a-comma-separated-string.-(4-points)-6.6\">Q1.6* Extract the list of genres as a comma separated string. (4 points)</a></span></li></ul></li><li><span><a href=\"#Task-2:-Groupby-and-visualization\" data-toc-modified-id=\"Task-2:-Groupby-and-visualization-7\">Task 2: Groupby and visualization</a></span><ul class=\"toc-item\"><li><span><a href=\"#Q2.1-Write-a-function-that-takes-a-genre-and-groups-movies-from-the-90s-of-that-genre-by-year.--(3-points)\" data-toc-modified-id=\"Q2.1-Write-a-function-that-takes-a-genre-and-groups-movies-from-the-90s-of-that-genre-by-year.--(3-points)-7.1\">Q2.1 Write a function that takes a genre and groups movies from the 90s of that genre by year.  (3 points)</a></span></li><li><span><a href=\"#Q2.2-Plot-the-number-of-adventure-movies-from-the-90s-on-a-bar-chart.-Use-your-groupby_genre-function.-(2-points)\" data-toc-modified-id=\"Q2.2-Plot-the-number-of-adventure-movies-from-the-90s-on-a-bar-chart.-Use-your-groupby_genre-function.-(2-points)-7.2\">Q2.2 Plot the number of adventure movies from the 90s on a <em>bar</em> chart. Use your <code>groupby_genre</code> function. (2 points)</a></span></li></ul></li><li><span><a href=\"#Task-3:-String-and-date-manipulation\" data-toc-modified-id=\"Task-3:-String-and-date-manipulation-8\">Task 3: String and date manipulation</a></span><ul class=\"toc-item\"><li><span><a href=\"#Q3.1-How-many-movies-have-title-longer-than-40-characters?-(3-points)\" data-toc-modified-id=\"Q3.1-How-many-movies-have-title-longer-than-40-characters?-(3-points)-8.1\">Q3.1 How many movies have title longer than 40 characters? (3 points)</a></span></li><li><span><a href=\"#Q3.2-We're-building-a-traditional-lexicon-of-the-titles.-What-is-the-distribution-of-initial-letters-(i.e.-how-many-titles-start-with-S?)?-Plot-it-on-a-bar-chart.\" data-toc-modified-id=\"Q3.2-We're-building-a-traditional-lexicon-of-the-titles.-What-is-the-distribution-of-initial-letters-(i.e.-how-many-titles-start-with-S?)?-Plot-it-on-a-bar-chart.-8.2\">Q3.2 We're building a traditional lexicon of the titles. What is the distribution of initial letters (i.e. how many titles start with S?)? Plot it on a bar chart.</a></span><ul class=\"toc-item\"><li><span><a href=\"#Step-1.-Compute-frequencies.-(3-points)\" data-toc-modified-id=\"Step-1.-Compute-frequencies.-(3-points)-8.2.1\">Step 1. Compute frequencies. (3 points)</a></span></li><li><span><a href=\"#Step-2.-Plot-it-on-a-bar-chart-in-descending-order.-(3-points)\" data-toc-modified-id=\"Step-2.-Plot-it-on-a-bar-chart-in-descending-order.-(3-points)-8.2.2\">Step 2. Plot it on a bar chart in descending order. (3 points)</a></span></li></ul></li><li><span><a href=\"#Q3.3-Plot-the-distribution-of-release-day-(day-of-month)-on-a-pie-chart.\" data-toc-modified-id=\"Q3.3-Plot-the-distribution-of-release-day-(day-of-month)-on-a-pie-chart.-8.3\">Q3.3 Plot the distribution of release day (day of month) on a pie chart.</a></span><ul class=\"toc-item\"><li><span><a href=\"#Step-1.-groupby-(2-points)\" data-toc-modified-id=\"Step-1.-groupby-(2-points)-8.3.1\">Step 1. groupby (2 points)</a></span></li></ul></li><li><span><a href=\"#Step-2.-pie-chart.-Add-percent-values.-(3-points)\" data-toc-modified-id=\"Step-2.-pie-chart.-Add-percent-values.-(3-points)-8.4\">Step 2. pie chart. Add percent values. (3 points)</a></span></li></ul></li><li><span><a href=\"#Task-4:-Handling-multiple-dataframes\" data-toc-modified-id=\"Task-4:-Handling-multiple-dataframes-9\">Task 4: Handling multiple dataframes</a></span><ul class=\"toc-item\"><li><span><a href=\"#Q4.1-Load-the-users-table-from-the-file-ml-100k/u.user.-(3-points)\" data-toc-modified-id=\"Q4.1-Load-the-users-table-from-the-file-ml-100k/u.user.-(3-points)-9.1\">Q4.1 Load the users table from the file <code>ml-100k/u.user</code>. (3 points)</a></span></li><li><span><a href=\"#Q4.2-Merge-the-users-table-with-ratings.-Do-not-discard-any-columns.-(3-points)\" data-toc-modified-id=\"Q4.2-Merge-the-users-table-with-ratings.-Do-not-discard-any-columns.-(3-points)-9.2\">Q4.2 Merge the <code>users</code> table with <code>ratings</code>. Do not discard any columns. (3 points)</a></span></li><li><span><a href=\"#Q4.3-Which-5-movies-received-the-most-ratings-and-how-many-times-were-they-rated?-(2-points)\" data-toc-modified-id=\"Q4.3-Which-5-movies-received-the-most-ratings-and-how-many-times-were-they-rated?-(2-points)-9.3\">Q4.3 Which 5 movies received the most ratings and how many times were they rated? (2 points)</a></span></li><li><span><a href=\"#Q4.4-How-strict-are-people-by-occupation?-Compute-the-average-of-ratings-by-occupation.-Plot-it-on-a-bar-chart-in-descending-order.\" data-toc-modified-id=\"Q4.4-How-strict-are-people-by-occupation?-Compute-the-average-of-ratings-by-occupation.-Plot-it-on-a-bar-chart-in-descending-order.-9.4\">Q4.4 How strict are people by occupation? Compute the average of ratings by occupation. Plot it on a bar chart in descending order.</a></span><ul class=\"toc-item\"><li><span><a href=\"#Step-1.-Compute-the-averages-by-occupation.-(2-points)\" data-toc-modified-id=\"Step-1.-Compute-the-averages-by-occupation.-(2-points)-9.4.1\">Step 1. Compute the averages by occupation. (2 points)</a></span></li><li><span><a href=\"#Step-2.-Plot-it-on-a-bar-chart.-(2-points)\" data-toc-modified-id=\"Step-2.-Plot-it-on-a-bar-chart.-(2-points)-9.4.2\">Step 2. Plot it on a bar chart. (2 points)</a></span></li></ul></li><li><span><a href=\"#Q4.5-How-likely-are-different-age-groups-to-rate-movies?-Compute-the-number-of-ratings-by-age-grouped-into-10-19,-20-29,-etc.-Plot-it-on-a-bar-chart.\" data-toc-modified-id=\"Q4.5-How-likely-are-different-age-groups-to-rate-movies?-Compute-the-number-of-ratings-by-age-grouped-into-10-19,-20-29,-etc.-Plot-it-on-a-bar-chart.-9.5\">Q4.5 How likely are different age groups to rate movies? Compute the number of ratings by age grouped into 10-19, 20-29, etc. Plot it on a bar chart.</a></span><ul class=\"toc-item\"><li><span><a href=\"#Step-1.-Number-of-ratings-by-age-group-(3-points)\" data-toc-modified-id=\"Step-1.-Number-of-ratings-by-age-group-(3-points)-9.5.1\">Step 1. Number of ratings by age group (3 points)</a></span></li><li><span><a href=\"#Step-2.-Plot-it-on-a-bar-chart.-(2-points)\" data-toc-modified-id=\"Step-2.-Plot-it-on-a-bar-chart.-(2-points)-9.5.2\">Step 2. Plot it on a bar chart. (2 points)</a></span></li></ul></li></ul></li><li><span><a href=\"#Task-5:-Advanced-tasks\" data-toc-modified-id=\"Task-5:-Advanced-tasks-10\">Task 5: Advanced tasks</a></span><ul class=\"toc-item\"><li><span><a href=\"#Q5.1-What-is-the-mean-of-ratings-by-genre?\" data-toc-modified-id=\"Q5.1-What-is-the-mean-of-ratings-by-genre?-10.1\">Q5.1 What is the mean of ratings by genre?</a></span><ul class=\"toc-item\"><li><span><a href=\"#Step-1.-Compute-the-mean-scores.-(5-points)\" data-toc-modified-id=\"Step-1.-Compute-the-mean-scores.-(5-points)-10.1.1\">Step 1. Compute the mean scores. (5 points)</a></span></li><li><span><a href=\"#Step-2.-Plot-it-on-a-bar-chart-in-descending-order-by-score.-Set-the-limits-of-the-y-axis-to-(2.5,-4).-(2-points)\" data-toc-modified-id=\"Step-2.-Plot-it-on-a-bar-chart-in-descending-order-by-score.-Set-the-limits-of-the-y-axis-to-(2.5,-4).-(2-points)-10.1.2\">Step 2. Plot it on a bar chart in descending order by score. Set the limits of the y-axis to (2.5, 4). (2 points)</a></span></li></ul></li><li><span><a href=\"#Q5.2-Plot-the-average-ratings-by-occupation-and-gender-on-a-multiple-bar-plot.-(4-points)\" data-toc-modified-id=\"Q5.2-Plot-the-average-ratings-by-occupation-and-gender-on-a-multiple-bar-plot.-(4-points)-10.2\">Q5.2 Plot the average ratings by occupation <em>and</em> gender on a multiple bar plot. (4 points)</a></span></li><li><span><a href=\"#Q5.3-What-hour-of-the-day-do-different-occupations-rate?-(3-points)\" data-toc-modified-id=\"Q5.3-What-hour-of-the-day-do-different-occupations-rate?-(3-points)-10.3\">Q5.3 What hour of the day do different occupations rate? (3 points)</a></span></li><li><span><a href=\"#Q5.4-Plot-the-rating-hours-of-marketing-employees-and-programmers-on-two-pie-charts.-(4-points)\" data-toc-modified-id=\"Q5.4-Plot-the-rating-hours-of-marketing-employees-and-programmers-on-two-pie-charts.-(4-points)-10.4\">Q5.4 Plot the rating hours of marketing employees and programmers on two pie charts. (4 points)</a></span></li><li><span><a href=\"#Q5.5-Do-older-people-prefer-movies-with-longer-titles?-Compute-the-average-title-length-by-age-group-(0-10,-10-20).\" data-toc-modified-id=\"Q5.5-Do-older-people-prefer-movies-with-longer-titles?-Compute-the-average-title-length-by-age-group-(0-10,-10-20).-10.5\">Q5.5 Do older people prefer movies with longer titles? Compute the average title length by age group (0-10, 10-20).</a></span><ul class=\"toc-item\"><li><span><a href=\"#Step1.-compute-mean-length-(4-points)\" data-toc-modified-id=\"Step1.-compute-mean-length-(4-points)-10.5.1\">Step1. compute mean length (4 points)</a></span></li><li><span><a href=\"#Step-2.-Plot-it-on-a-bar-chart.-Choose-a-reasonable-range-for-the-y-axis.-(2-points)\" data-toc-modified-id=\"Step-2.-Plot-it-on-a-bar-chart.-Choose-a-reasonable-range-for-the-y-axis.-(2-points)-10.5.2\">Step 2. Plot it on a bar chart. Choose a reasonable range for the y-axis. (2 points)</a></span></li></ul></li><li><span><a href=\"#Q5.6-What-are-the-highest-rated-movies-among-the-movies-that-were-rated-at-least-50-times?-(4-points)\" data-toc-modified-id=\"Q5.6-What-are-the-highest-rated-movies-among-the-movies-that-were-rated-at-least-50-times?-(4-points)-10.6\">Q5.6 What are the highest rated movies among the movies that were rated at least 50 times? (4 points)</a></span></li></ul></li></ul></div>"
   ]
  },
  {
   "cell_type": "markdown",
   "metadata": {},
   "source": [
    "# Business Intelligence Laboratory 2022 - Pandas\n",
    "\n",
    "# Kovács Bence Zoltán (S3OA6K)\n",
    "\n",
    "## 2023.04.24"
   ]
  },
  {
   "cell_type": "markdown",
   "metadata": {
    "deletable": false,
    "editable": false,
    "nbgrader": {
     "cell_type": "markdown",
     "checksum": "f13821f438a87f7f1d700dadfb747f21",
     "grade": false,
     "grade_id": "cell-11d698aeba6abdaa",
     "locked": true,
     "schema_version": 3,
     "solution": false,
     "task": false
    }
   },
   "source": [
    "## General information\n",
    "\n",
    "This goal of this notebook is to give a introduction to the `pandas` library, a popular data manipulation and analysis tool for Python.\n",
    "\n",
    "Before completing this notebook, you should read the introductory material which is available in you Github Classroom repository or [here](https://github.com/bi-labor/pandas_jupyter/blob/master/notebooks/Pandas_introduction.ipynb).\n",
    "\n",
    "Problems are numbered from **Q1** to **Q5** with many subproblems such as **Q1.1**. The scores range from 2 to 5 based on the difficulty of the problem. The maximum score for each Task is:\n",
    "\n",
    "| Task | Score |\n",
    "| ---- | ----|\n",
    "| 1 | 16 |\n",
    "| 2 | 5 |\n",
    "| 3 | 14 |\n",
    "| 4 | 17 |\n",
    "| 5 | 28 |\n",
    "| code style | 5 |\n",
    "| figure quality | 5 |\n",
    "| **Sum** | **90** |\n",
    "\n",
    "\n",
    "Grades are determined using this table:\n",
    "\n",
    "| Score | Grade |\n",
    "| ---- | ----|\n",
    "| 55+ | 5 |\n",
    "| 46-54 | 4 |\n",
    "| 36-45 | 3 |\n",
    "| 26-35 | 2 |\n",
    "| -25 | 1 |\n",
    "\n",
    "Task 1 to 4 are considered core exercises.\n",
    "Task 5 contains advanced exercises for higher scores.\n",
    "You can make up for mistakes in Task 1-4.\n",
    "As you can see from the grading table, you don't have to complete all excercises to get a high grade, but we encourage you to work on them. Don't hesitate to contact your lab supervisor if you have any questions regarding the excercises.\n",
    "\n",
    "Your answer should go in place of `YOUR CODE HERE`. Please remove `raise NotImplementedError`!\n",
    "\n",
    "Most of the tasks are automatically graded with [nbgrader](https://nbgrader.readthedocs.io/en/stable/index.html).\n",
    "There are many visible and hidden tests.\n",
    "Visible tests are available in this version, hidden tests are not.\n",
    "This means that passing all visible tests does not ensure that your answer is correct.\n",
    "Not passing the visible tests means that your answer is incorrect.\n",
    "Do not delete or copy cells and do not edit the metadata of the cells.\n",
    "You may add cells but they will not be graded.\n",
    "\n",
    "\n",
    "### Submission\n",
    "\n",
    "You only need to submit this notebook through Github Classroom.\n",
    "Please do not add any additional files such as the dataset.\n",
    "Make sure that you commit and push the last version of your notebook.\n",
    "\n",
    "There is a file named `neptun.txt` in the same folder as this file. Replace its contents with your own Neptun code.\n",
    "\n",
    "**VERY IMPORTANT** Run Kernel->Restart & Run All and make sure that it finishes without errors.\n",
    "If you skip exercises, you need to manually run the remaining cells.\n",
    "Skipping exercises won't affect the autograder.\n",
    "If you skip and exercise, please leave the solution cell as it is and do not remove the exception.\n",
    "\n",
    "\n",
    "### Tips\n",
    "\n",
    "You generally don't need to leave any DataFrames printed as cell outputs. You can do it for debug purposes and it won't affect the autograder but please don't leave long tables in the output. Use `.head()` instead.\n",
    "\n",
    "Be concise. All exercises can be solved with fewer than 5 lines of code and most are one-liners.\n",
    "\n",
    "All exercises can be solved without for loops. Using a for loop for Q1.6 is acceptable.\n",
    "\n",
    "Avoid overriding Python built-in functions with your own variables (e.g. `max = 2`).\n",
    "\n",
    "If you mess up, you can always do one of the following\n",
    "  1. Kernel -> Restart & Run All - this will run all cells from top to bottom until an exception is thrown\n",
    "  1. Kernel -> Restart, Cell -> Run All Above - this will run all cells from top to bottom until the current cell is reached or and exception is thrown\n",
    "  \n",
    "If your notebook runs for longer than a minute, one or more of your solutions is very inefficient.\n",
    "\n",
    "### Feedback\n",
    "\n",
    "Please fill out this [short survey](https://forms.gle/jb8D6uqVD3rp9piw8) after you completed the problems."
   ]
  },
  {
   "cell_type": "markdown",
   "metadata": {
    "deletable": false,
    "editable": false,
    "nbgrader": {
     "cell_type": "markdown",
     "checksum": "f00701ab05813336c7a8fb81167ae742",
     "grade": false,
     "grade_id": "cell-5a4be9ece534d94f",
     "locked": true,
     "points": 10,
     "schema_version": 3,
     "solution": false,
     "task": true
    }
   },
   "source": [
    "## Code quality\n",
    "\n",
    "You can get 5 extra points for code quality. We understand, that not everyone has experience with python, so you won't lose points for not following the python specific style guide, but clean code is highle encouraged.\n",
    "\n",
    "## Figure quality\n",
    "\n",
    "You can get 5 extra points for the quality of your figures. Good figures have labeled axes with meaningful names, reasonable figure size and reasonable axes limits.\n",
    "Extra attention to details also helps."
   ]
  },
  {
   "cell_type": "code",
   "execution_count": 3,
   "metadata": {
    "ExecuteTime": {
     "start_time": "2023-04-24T19:15:39.926674Z",
     "end_time": "2023-04-24T19:15:39.942670Z"
    }
   },
   "outputs": [],
   "source": [
    "import pandas as pd\n",
    "%matplotlib inline\n",
    "import matplotlib.pyplot as plt\n",
    "import numpy as np\n",
    "\n",
    "import seaborn as sns\n",
    "sns.set_context('notebook')\n",
    "\n",
    "pd.options.display.max_colwidth = 100"
   ]
  },
  {
   "cell_type": "markdown",
   "metadata": {
    "deletable": false,
    "editable": false,
    "nbgrader": {
     "cell_type": "markdown",
     "checksum": "3147cc8d4bc055c6ca3f974210d56960",
     "grade": false,
     "grade_id": "cell-32d0b96512d50be0",
     "locked": true,
     "schema_version": 3,
     "solution": false,
     "task": false
    }
   },
   "source": [
    "# Data preparation\n",
    "\n",
    "Downloading the dataset:"
   ]
  },
  {
   "cell_type": "code",
   "execution_count": 5,
   "metadata": {
    "ExecuteTime": {
     "start_time": "2023-04-24T19:16:14.411960Z",
     "end_time": "2023-04-24T19:16:14.458958Z"
    }
   },
   "outputs": [
    {
     "name": "stdout",
     "output_type": "stream",
     "text": [
      "File already exists, skipping download step.\n"
     ]
    }
   ],
   "source": [
    "import os\n",
    "\n",
    "data_dir = os.getenv('MOVIELENS')\n",
    "if data_dir is None:\n",
    "    data_dir = ''\n",
    "\n",
    "ml_path = os.path.join(data_dir, 'ml.zip')\n",
    "\n",
    "if os.path.exists(ml_path):\n",
    "    print('File already exists, skipping download step.')\n",
    "else:\n",
    "    print('Downloading the Movielens dataset')\n",
    "    import urllib\n",
    "    u = urllib.request.URLopener()\n",
    "    u.retrieve('http://files.grouplens.org/datasets/movielens/ml-100k.zip', ml_path)"
   ]
  },
  {
   "cell_type": "code",
   "execution_count": 6,
   "metadata": {
    "ExecuteTime": {
     "start_time": "2023-04-24T19:16:25.574333Z",
     "end_time": "2023-04-24T19:16:25.670129Z"
    }
   },
   "outputs": [
    {
     "name": "stdout",
     "output_type": "stream",
     "text": [
      "Unziping the dataset.\n"
     ]
    }
   ],
   "source": [
    "unzip_path = os.path.join(data_dir, 'ml-100k')\n",
    "\n",
    "if os.path.exists(unzip_path):\n",
    "    print('Dataset already unpacked, skipping unpacking step.')\n",
    "else:\n",
    "    print('Unziping the dataset.')\n",
    "    from zipfile import ZipFile\n",
    "    with ZipFile(ml_path) as myzip:\n",
    "        myzip.extractall(data_dir)\n",
    "        \n",
    "data_dir = unzip_path"
   ]
  },
  {
   "cell_type": "markdown",
   "metadata": {
    "deletable": false,
    "editable": false,
    "nbgrader": {
     "cell_type": "markdown",
     "checksum": "86dc258ab6a90b5127ce57737605f7ae",
     "grade": false,
     "grade_id": "cell-7f356d60fac614a4",
     "locked": true,
     "schema_version": 3,
     "solution": false,
     "task": false
    }
   },
   "source": [
    "Loading the dataset\n",
    "\n",
    "`pd.read_table` loads a tabular dataset. The full function signature is:\n",
    "\n",
    "\n",
    "~~~\n",
    "pandas.read_table(filepath_or_buffer: Union[str, pathlib.Path, IO[~AnyStr]], sep='t', delimiter=None, header='infer', names=None, index_col=None, usecols=None, squeeze=False, prefix=None, mangle_dupe_cols=True, dtype=None, engine=None, converters=None, true_values=None, false_values=None, skipinitialspace=False, skiprows=None, skipfooter=0, nrows=None, na_values=None, keep_default_na=True, na_filter=True, verbose=False, skip_blank_lines=True, parse_dates=False, infer_datetime_format=False, keep_date_col=False, date_parser=None, dayfirst=False, cache_dates=True, iterator=False, chunksize=None, compression='infer', thousands=None, decimal: str = '.', lineterminator=None, quotechar='\"', quoting=0, doublequote=True, escapechar=None, comment=None, encoding=None, dialect=None, error_bad_lines=True, warn_bad_lines=True, delim_whitespace=False, low_memory=True, memory_map=False, float_precision=None\n",
    "~~~\n",
    "\n",
    "let's try it with defaults"
   ]
  },
  {
   "cell_type": "code",
   "execution_count": 7,
   "metadata": {
    "ExecuteTime": {
     "start_time": "2023-04-24T19:16:37.339750Z",
     "end_time": "2023-04-24T19:16:37.402254Z"
    }
   },
   "outputs": [
    {
     "data": {
      "text/plain": "  1|Toy Story (1995)|01-Jan-1995||http://us.imdb.com/M/title-exact?Toy%20Story%20(1995)|0|0|0|1|1|1|0|0|0|0|0|0|0|0|0|0|0|0|0\n0  2|GoldenEye (1995)|01-Jan-1995||http://us.imdb.com/M/title-exact?GoldenEye%20(1995)|0|1|1|0|0|0|...                       \n1  3|Four Rooms (1995)|01-Jan-1995||http://us.imdb.com/M/title-exact?Four%20Rooms%20(1995)|0|0|0|0|...                       \n2  4|Get Shorty (1995)|01-Jan-1995||http://us.imdb.com/M/title-exact?Get%20Shorty%20(1995)|0|1|0|0|...                       \n3  5|Copycat (1995)|01-Jan-1995||http://us.imdb.com/M/title-exact?Copycat%20(1995)|0|0|0|0|0|0|1|0|...                       \n4  6|Shanghai Triad (Yao a yao yao dao waipo qiao) (1995)|01-Jan-1995||http://us.imdb.com/Title?Yao...                       ",
      "text/html": "<div>\n<style scoped>\n    .dataframe tbody tr th:only-of-type {\n        vertical-align: middle;\n    }\n\n    .dataframe tbody tr th {\n        vertical-align: top;\n    }\n\n    .dataframe thead th {\n        text-align: right;\n    }\n</style>\n<table border=\"1\" class=\"dataframe\">\n  <thead>\n    <tr style=\"text-align: right;\">\n      <th></th>\n      <th>1|Toy Story (1995)|01-Jan-1995||http://us.imdb.com/M/title-exact?Toy%20Story%20(1995)|0|0|0|1|1|1|0|0|0|0|0|0|0|0|0|0|0|0|0</th>\n    </tr>\n  </thead>\n  <tbody>\n    <tr>\n      <th>0</th>\n      <td>2|GoldenEye (1995)|01-Jan-1995||http://us.imdb.com/M/title-exact?GoldenEye%20(1995)|0|1|1|0|0|0|...</td>\n    </tr>\n    <tr>\n      <th>1</th>\n      <td>3|Four Rooms (1995)|01-Jan-1995||http://us.imdb.com/M/title-exact?Four%20Rooms%20(1995)|0|0|0|0|...</td>\n    </tr>\n    <tr>\n      <th>2</th>\n      <td>4|Get Shorty (1995)|01-Jan-1995||http://us.imdb.com/M/title-exact?Get%20Shorty%20(1995)|0|1|0|0|...</td>\n    </tr>\n    <tr>\n      <th>3</th>\n      <td>5|Copycat (1995)|01-Jan-1995||http://us.imdb.com/M/title-exact?Copycat%20(1995)|0|0|0|0|0|0|1|0|...</td>\n    </tr>\n    <tr>\n      <th>4</th>\n      <td>6|Shanghai Triad (Yao a yao yao dao waipo qiao) (1995)|01-Jan-1995||http://us.imdb.com/Title?Yao...</td>\n    </tr>\n  </tbody>\n</table>\n</div>"
     },
     "execution_count": 7,
     "metadata": {},
     "output_type": "execute_result"
    }
   ],
   "source": [
    "# movies = pd.read_table('ml-100k/u.item')  # it raises a UnicodeDecodeErrort because its encoding is not UTF-8\n",
    "movies = pd.read_table(os.path.join(data_dir, 'u.item'), encoding='latin1')\n",
    "movies.head()"
   ]
  },
  {
   "cell_type": "markdown",
   "metadata": {
    "deletable": false,
    "editable": false,
    "nbgrader": {
     "cell_type": "markdown",
     "checksum": "ebf4350b1820de5bbee7f8cd62828f3e",
     "grade": false,
     "grade_id": "cell-90e3cbfb5c9d778b",
     "locked": true,
     "schema_version": 3,
     "solution": false,
     "task": false
    }
   },
   "source": [
    "Some improvements:\n",
    "\n",
    "1. Use a different separator. `|` instead of `\\t`.\n",
    "1. The first line of the file is used as the header. The real names of the columns are listed in the `README`, they can be specified with the `names` parameters.\n",
    "1. `read_table` added an index (0..N-1), but the dataset already has an index, let's use that one (`index_col='movie_id'`)\n",
    "1. two columns, `release_date` and `video_release_date` are dates, pandas can parse them and create its own datetype. "
   ]
  },
  {
   "cell_type": "code",
   "execution_count": 8,
   "metadata": {
    "ExecuteTime": {
     "start_time": "2023-04-24T19:16:43.772063Z",
     "end_time": "2023-04-24T19:16:43.818949Z"
    }
   },
   "outputs": [
    {
     "data": {
      "text/plain": "                      title release_date video_release_date  \\\nmovie_id                                                      \n1          Toy Story (1995)   1995-01-01                NaT   \n2          GoldenEye (1995)   1995-01-01                NaT   \n3         Four Rooms (1995)   1995-01-01                NaT   \n4         Get Shorty (1995)   1995-01-01                NaT   \n5            Copycat (1995)   1995-01-01                NaT   \n\n                                                        imdb_url  unknown  \\\nmovie_id                                                                    \n1          http://us.imdb.com/M/title-exact?Toy%20Story%20(1995)        0   \n2            http://us.imdb.com/M/title-exact?GoldenEye%20(1995)        0   \n3         http://us.imdb.com/M/title-exact?Four%20Rooms%20(1995)        0   \n4         http://us.imdb.com/M/title-exact?Get%20Shorty%20(1995)        0   \n5              http://us.imdb.com/M/title-exact?Copycat%20(1995)        0   \n\n          action  adventure  animation  children  comedy  ...  fantasy  \\\nmovie_id                                                  ...            \n1              0          0          1         1       1  ...        0   \n2              1          1          0         0       0  ...        0   \n3              0          0          0         0       0  ...        0   \n4              1          0          0         0       1  ...        0   \n5              0          0          0         0       0  ...        0   \n\n          film_noir  horror  musical  mystery  romance  sci_fi  thriller  war  \\\nmovie_id                                                                        \n1                 0       0        0        0        0       0         0    0   \n2                 0       0        0        0        0       0         1    0   \n3                 0       0        0        0        0       0         1    0   \n4                 0       0        0        0        0       0         0    0   \n5                 0       0        0        0        0       0         1    0   \n\n          western  \nmovie_id           \n1               0  \n2               0  \n3               0  \n4               0  \n5               0  \n\n[5 rows x 23 columns]",
      "text/html": "<div>\n<style scoped>\n    .dataframe tbody tr th:only-of-type {\n        vertical-align: middle;\n    }\n\n    .dataframe tbody tr th {\n        vertical-align: top;\n    }\n\n    .dataframe thead th {\n        text-align: right;\n    }\n</style>\n<table border=\"1\" class=\"dataframe\">\n  <thead>\n    <tr style=\"text-align: right;\">\n      <th></th>\n      <th>title</th>\n      <th>release_date</th>\n      <th>video_release_date</th>\n      <th>imdb_url</th>\n      <th>unknown</th>\n      <th>action</th>\n      <th>adventure</th>\n      <th>animation</th>\n      <th>children</th>\n      <th>comedy</th>\n      <th>...</th>\n      <th>fantasy</th>\n      <th>film_noir</th>\n      <th>horror</th>\n      <th>musical</th>\n      <th>mystery</th>\n      <th>romance</th>\n      <th>sci_fi</th>\n      <th>thriller</th>\n      <th>war</th>\n      <th>western</th>\n    </tr>\n    <tr>\n      <th>movie_id</th>\n      <th></th>\n      <th></th>\n      <th></th>\n      <th></th>\n      <th></th>\n      <th></th>\n      <th></th>\n      <th></th>\n      <th></th>\n      <th></th>\n      <th></th>\n      <th></th>\n      <th></th>\n      <th></th>\n      <th></th>\n      <th></th>\n      <th></th>\n      <th></th>\n      <th></th>\n      <th></th>\n      <th></th>\n    </tr>\n  </thead>\n  <tbody>\n    <tr>\n      <th>1</th>\n      <td>Toy Story (1995)</td>\n      <td>1995-01-01</td>\n      <td>NaT</td>\n      <td>http://us.imdb.com/M/title-exact?Toy%20Story%20(1995)</td>\n      <td>0</td>\n      <td>0</td>\n      <td>0</td>\n      <td>1</td>\n      <td>1</td>\n      <td>1</td>\n      <td>...</td>\n      <td>0</td>\n      <td>0</td>\n      <td>0</td>\n      <td>0</td>\n      <td>0</td>\n      <td>0</td>\n      <td>0</td>\n      <td>0</td>\n      <td>0</td>\n      <td>0</td>\n    </tr>\n    <tr>\n      <th>2</th>\n      <td>GoldenEye (1995)</td>\n      <td>1995-01-01</td>\n      <td>NaT</td>\n      <td>http://us.imdb.com/M/title-exact?GoldenEye%20(1995)</td>\n      <td>0</td>\n      <td>1</td>\n      <td>1</td>\n      <td>0</td>\n      <td>0</td>\n      <td>0</td>\n      <td>...</td>\n      <td>0</td>\n      <td>0</td>\n      <td>0</td>\n      <td>0</td>\n      <td>0</td>\n      <td>0</td>\n      <td>0</td>\n      <td>1</td>\n      <td>0</td>\n      <td>0</td>\n    </tr>\n    <tr>\n      <th>3</th>\n      <td>Four Rooms (1995)</td>\n      <td>1995-01-01</td>\n      <td>NaT</td>\n      <td>http://us.imdb.com/M/title-exact?Four%20Rooms%20(1995)</td>\n      <td>0</td>\n      <td>0</td>\n      <td>0</td>\n      <td>0</td>\n      <td>0</td>\n      <td>0</td>\n      <td>...</td>\n      <td>0</td>\n      <td>0</td>\n      <td>0</td>\n      <td>0</td>\n      <td>0</td>\n      <td>0</td>\n      <td>0</td>\n      <td>1</td>\n      <td>0</td>\n      <td>0</td>\n    </tr>\n    <tr>\n      <th>4</th>\n      <td>Get Shorty (1995)</td>\n      <td>1995-01-01</td>\n      <td>NaT</td>\n      <td>http://us.imdb.com/M/title-exact?Get%20Shorty%20(1995)</td>\n      <td>0</td>\n      <td>1</td>\n      <td>0</td>\n      <td>0</td>\n      <td>0</td>\n      <td>1</td>\n      <td>...</td>\n      <td>0</td>\n      <td>0</td>\n      <td>0</td>\n      <td>0</td>\n      <td>0</td>\n      <td>0</td>\n      <td>0</td>\n      <td>0</td>\n      <td>0</td>\n      <td>0</td>\n    </tr>\n    <tr>\n      <th>5</th>\n      <td>Copycat (1995)</td>\n      <td>1995-01-01</td>\n      <td>NaT</td>\n      <td>http://us.imdb.com/M/title-exact?Copycat%20(1995)</td>\n      <td>0</td>\n      <td>0</td>\n      <td>0</td>\n      <td>0</td>\n      <td>0</td>\n      <td>0</td>\n      <td>...</td>\n      <td>0</td>\n      <td>0</td>\n      <td>0</td>\n      <td>0</td>\n      <td>0</td>\n      <td>0</td>\n      <td>0</td>\n      <td>1</td>\n      <td>0</td>\n      <td>0</td>\n    </tr>\n  </tbody>\n</table>\n<p>5 rows × 23 columns</p>\n</div>"
     },
     "execution_count": 8,
     "metadata": {},
     "output_type": "execute_result"
    }
   ],
   "source": [
    "column_names = [\n",
    "    'movie_id', 'title', 'release_date', 'video_release_date', 'imdb_url', 'unknown', 'action', 'adventure', 'animation',\n",
    "    'children', 'comedy', 'crime', 'documentary', 'drama', 'fantasy', 'film_noir', 'horror', 'musical', 'mystery',\n",
    "    'romance', 'sci_fi', 'thriller', 'war', 'western']\n",
    "\n",
    "movies = pd.read_table(\n",
    "    os.path.join(data_dir, 'u.item'), sep='|',\n",
    "    names=column_names, encoding='latin1', index_col='movie_id',\n",
    "    parse_dates=['release_date', 'video_release_date']\n",
    ")\n",
    "movies.head()"
   ]
  },
  {
   "cell_type": "markdown",
   "metadata": {
    "deletable": false,
    "editable": false,
    "nbgrader": {
     "cell_type": "markdown",
     "checksum": "bebe59b142ca3c2f9a5a2397c5557f66",
     "grade": false,
     "grade_id": "cell-ce1e74dc28161833",
     "locked": true,
     "schema_version": 3,
     "solution": false,
     "task": false
    }
   },
   "source": [
    "We will use the release year of the movies frequently. Let's extract the release year of a movie into a separate column. For this we need to use the dt (datetime) field of the release_date. Trough this we can access datetime specific information, such as the year, month or day field and certain functions."
   ]
  },
  {
   "cell_type": "code",
   "execution_count": 9,
   "metadata": {
    "ExecuteTime": {
     "start_time": "2023-04-24T19:17:02.401334Z",
     "end_time": "2023-04-24T19:17:02.416953Z"
    }
   },
   "outputs": [],
   "source": [
    "movies['year'] = movies.release_date.dt.year"
   ]
  },
  {
   "cell_type": "markdown",
   "metadata": {
    "deletable": false,
    "editable": false,
    "nbgrader": {
     "cell_type": "markdown",
     "checksum": "c6e3e7bb78b63a6967ec93c2d2953eee",
     "grade": false,
     "grade_id": "cell-5606b6afef6bb0e6",
     "locked": true,
     "schema_version": 3,
     "solution": false,
     "task": false
    }
   },
   "source": [
    "The most common years are:"
   ]
  },
  {
   "cell_type": "code",
   "execution_count": 10,
   "metadata": {
    "ExecuteTime": {
     "start_time": "2023-04-24T19:17:06.837560Z",
     "end_time": "2023-04-24T19:17:06.853195Z"
    }
   },
   "outputs": [
    {
     "data": {
      "text/plain": "1996.0    355\n1997.0    286\n1995.0    219\n1994.0    214\n1993.0    126\nName: year, dtype: int64"
     },
     "execution_count": 10,
     "metadata": {},
     "output_type": "execute_result"
    }
   ],
   "source": [
    "movies.year.value_counts().head()"
   ]
  },
  {
   "cell_type": "markdown",
   "metadata": {
    "deletable": false,
    "editable": false,
    "nbgrader": {
     "cell_type": "markdown",
     "checksum": "956e4a214156d4092465ca096a59db9b",
     "grade": false,
     "grade_id": "cell-67dd9dce398c2d17",
     "locked": true,
     "schema_version": 3,
     "solution": false,
     "task": false
    }
   },
   "source": [
    "`video_release_date` is always `NaT` (not a time), let's drop it"
   ]
  },
  {
   "cell_type": "code",
   "execution_count": 11,
   "metadata": {
    "ExecuteTime": {
     "start_time": "2023-04-24T19:17:17.357805Z",
     "end_time": "2023-04-24T19:17:17.373434Z"
    }
   },
   "outputs": [
    {
     "data": {
      "text/plain": "True    1682\nName: video_release_date, dtype: int64"
     },
     "execution_count": 11,
     "metadata": {},
     "output_type": "execute_result"
    }
   ],
   "source": [
    "movies.video_release_date.isnull().value_counts()"
   ]
  },
  {
   "cell_type": "code",
   "execution_count": 12,
   "metadata": {
    "ExecuteTime": {
     "start_time": "2023-04-24T19:17:19.955298Z",
     "end_time": "2023-04-24T19:17:19.970921Z"
    }
   },
   "outputs": [],
   "source": [
    "movies = movies.drop('video_release_date', axis=1)"
   ]
  },
  {
   "cell_type": "markdown",
   "metadata": {
    "deletable": false,
    "editable": false,
    "nbgrader": {
     "cell_type": "markdown",
     "checksum": "90b03f5b2070fa1cb1a7f5af76856bde",
     "grade": false,
     "grade_id": "cell-f377ab2987b14a4d",
     "locked": true,
     "schema_version": 3,
     "solution": false,
     "task": false
    }
   },
   "source": [
    "# Exploring the dataset\n",
    "\n",
    "`describe` generate descriptive statistics."
   ]
  },
  {
   "cell_type": "code",
   "execution_count": 13,
   "metadata": {
    "ExecuteTime": {
     "start_time": "2023-04-24T19:17:26.305755Z",
     "end_time": "2023-04-24T19:17:26.359534Z"
    }
   },
   "outputs": [
    {
     "data": {
      "text/plain": "           unknown       action    adventure    animation     children  \\\ncount  1682.000000  1682.000000  1682.000000  1682.000000  1682.000000   \nmean      0.001189     0.149227     0.080262     0.024970     0.072533   \nstd       0.034473     0.356418     0.271779     0.156081     0.259445   \nmin       0.000000     0.000000     0.000000     0.000000     0.000000   \n25%       0.000000     0.000000     0.000000     0.000000     0.000000   \n50%       0.000000     0.000000     0.000000     0.000000     0.000000   \n75%       0.000000     0.000000     0.000000     0.000000     0.000000   \nmax       1.000000     1.000000     1.000000     1.000000     1.000000   \n\n            comedy        crime  documentary        drama     fantasy  \\\ncount  1682.000000  1682.000000  1682.000000  1682.000000  1682.00000   \nmean      0.300238     0.064804     0.029727     0.431034     0.01308   \nstd       0.458498     0.246253     0.169882     0.495368     0.11365   \nmin       0.000000     0.000000     0.000000     0.000000     0.00000   \n25%       0.000000     0.000000     0.000000     0.000000     0.00000   \n50%       0.000000     0.000000     0.000000     0.000000     0.00000   \n75%       1.000000     0.000000     0.000000     1.000000     0.00000   \nmax       1.000000     1.000000     1.000000     1.000000     1.00000   \n\n         film_noir       horror      musical      mystery      romance  \\\ncount  1682.000000  1682.000000  1682.000000  1682.000000  1682.000000   \nmean      0.014269     0.054697     0.033294     0.036266     0.146849   \nstd       0.118632     0.227455     0.179456     0.187008     0.354061   \nmin       0.000000     0.000000     0.000000     0.000000     0.000000   \n25%       0.000000     0.000000     0.000000     0.000000     0.000000   \n50%       0.000000     0.000000     0.000000     0.000000     0.000000   \n75%       0.000000     0.000000     0.000000     0.000000     0.000000   \nmax       1.000000     1.000000     1.000000     1.000000     1.000000   \n\n            sci_fi     thriller          war      western        year  \ncount  1682.000000  1682.000000  1682.000000  1682.000000  1681.00000  \nmean      0.060048     0.149227     0.042212     0.016052  1989.38608  \nstd       0.237646     0.356418     0.201131     0.125714    14.25358  \nmin       0.000000     0.000000     0.000000     0.000000  1922.00000  \n25%       0.000000     0.000000     0.000000     0.000000  1993.00000  \n50%       0.000000     0.000000     0.000000     0.000000  1995.00000  \n75%       0.000000     0.000000     0.000000     0.000000  1996.00000  \nmax       1.000000     1.000000     1.000000     1.000000  1998.00000  ",
      "text/html": "<div>\n<style scoped>\n    .dataframe tbody tr th:only-of-type {\n        vertical-align: middle;\n    }\n\n    .dataframe tbody tr th {\n        vertical-align: top;\n    }\n\n    .dataframe thead th {\n        text-align: right;\n    }\n</style>\n<table border=\"1\" class=\"dataframe\">\n  <thead>\n    <tr style=\"text-align: right;\">\n      <th></th>\n      <th>unknown</th>\n      <th>action</th>\n      <th>adventure</th>\n      <th>animation</th>\n      <th>children</th>\n      <th>comedy</th>\n      <th>crime</th>\n      <th>documentary</th>\n      <th>drama</th>\n      <th>fantasy</th>\n      <th>film_noir</th>\n      <th>horror</th>\n      <th>musical</th>\n      <th>mystery</th>\n      <th>romance</th>\n      <th>sci_fi</th>\n      <th>thriller</th>\n      <th>war</th>\n      <th>western</th>\n      <th>year</th>\n    </tr>\n  </thead>\n  <tbody>\n    <tr>\n      <th>count</th>\n      <td>1682.000000</td>\n      <td>1682.000000</td>\n      <td>1682.000000</td>\n      <td>1682.000000</td>\n      <td>1682.000000</td>\n      <td>1682.000000</td>\n      <td>1682.000000</td>\n      <td>1682.000000</td>\n      <td>1682.000000</td>\n      <td>1682.00000</td>\n      <td>1682.000000</td>\n      <td>1682.000000</td>\n      <td>1682.000000</td>\n      <td>1682.000000</td>\n      <td>1682.000000</td>\n      <td>1682.000000</td>\n      <td>1682.000000</td>\n      <td>1682.000000</td>\n      <td>1682.000000</td>\n      <td>1681.00000</td>\n    </tr>\n    <tr>\n      <th>mean</th>\n      <td>0.001189</td>\n      <td>0.149227</td>\n      <td>0.080262</td>\n      <td>0.024970</td>\n      <td>0.072533</td>\n      <td>0.300238</td>\n      <td>0.064804</td>\n      <td>0.029727</td>\n      <td>0.431034</td>\n      <td>0.01308</td>\n      <td>0.014269</td>\n      <td>0.054697</td>\n      <td>0.033294</td>\n      <td>0.036266</td>\n      <td>0.146849</td>\n      <td>0.060048</td>\n      <td>0.149227</td>\n      <td>0.042212</td>\n      <td>0.016052</td>\n      <td>1989.38608</td>\n    </tr>\n    <tr>\n      <th>std</th>\n      <td>0.034473</td>\n      <td>0.356418</td>\n      <td>0.271779</td>\n      <td>0.156081</td>\n      <td>0.259445</td>\n      <td>0.458498</td>\n      <td>0.246253</td>\n      <td>0.169882</td>\n      <td>0.495368</td>\n      <td>0.11365</td>\n      <td>0.118632</td>\n      <td>0.227455</td>\n      <td>0.179456</td>\n      <td>0.187008</td>\n      <td>0.354061</td>\n      <td>0.237646</td>\n      <td>0.356418</td>\n      <td>0.201131</td>\n      <td>0.125714</td>\n      <td>14.25358</td>\n    </tr>\n    <tr>\n      <th>min</th>\n      <td>0.000000</td>\n      <td>0.000000</td>\n      <td>0.000000</td>\n      <td>0.000000</td>\n      <td>0.000000</td>\n      <td>0.000000</td>\n      <td>0.000000</td>\n      <td>0.000000</td>\n      <td>0.000000</td>\n      <td>0.00000</td>\n      <td>0.000000</td>\n      <td>0.000000</td>\n      <td>0.000000</td>\n      <td>0.000000</td>\n      <td>0.000000</td>\n      <td>0.000000</td>\n      <td>0.000000</td>\n      <td>0.000000</td>\n      <td>0.000000</td>\n      <td>1922.00000</td>\n    </tr>\n    <tr>\n      <th>25%</th>\n      <td>0.000000</td>\n      <td>0.000000</td>\n      <td>0.000000</td>\n      <td>0.000000</td>\n      <td>0.000000</td>\n      <td>0.000000</td>\n      <td>0.000000</td>\n      <td>0.000000</td>\n      <td>0.000000</td>\n      <td>0.00000</td>\n      <td>0.000000</td>\n      <td>0.000000</td>\n      <td>0.000000</td>\n      <td>0.000000</td>\n      <td>0.000000</td>\n      <td>0.000000</td>\n      <td>0.000000</td>\n      <td>0.000000</td>\n      <td>0.000000</td>\n      <td>1993.00000</td>\n    </tr>\n    <tr>\n      <th>50%</th>\n      <td>0.000000</td>\n      <td>0.000000</td>\n      <td>0.000000</td>\n      <td>0.000000</td>\n      <td>0.000000</td>\n      <td>0.000000</td>\n      <td>0.000000</td>\n      <td>0.000000</td>\n      <td>0.000000</td>\n      <td>0.00000</td>\n      <td>0.000000</td>\n      <td>0.000000</td>\n      <td>0.000000</td>\n      <td>0.000000</td>\n      <td>0.000000</td>\n      <td>0.000000</td>\n      <td>0.000000</td>\n      <td>0.000000</td>\n      <td>0.000000</td>\n      <td>1995.00000</td>\n    </tr>\n    <tr>\n      <th>75%</th>\n      <td>0.000000</td>\n      <td>0.000000</td>\n      <td>0.000000</td>\n      <td>0.000000</td>\n      <td>0.000000</td>\n      <td>1.000000</td>\n      <td>0.000000</td>\n      <td>0.000000</td>\n      <td>1.000000</td>\n      <td>0.00000</td>\n      <td>0.000000</td>\n      <td>0.000000</td>\n      <td>0.000000</td>\n      <td>0.000000</td>\n      <td>0.000000</td>\n      <td>0.000000</td>\n      <td>0.000000</td>\n      <td>0.000000</td>\n      <td>0.000000</td>\n      <td>1996.00000</td>\n    </tr>\n    <tr>\n      <th>max</th>\n      <td>1.000000</td>\n      <td>1.000000</td>\n      <td>1.000000</td>\n      <td>1.000000</td>\n      <td>1.000000</td>\n      <td>1.000000</td>\n      <td>1.000000</td>\n      <td>1.000000</td>\n      <td>1.000000</td>\n      <td>1.00000</td>\n      <td>1.000000</td>\n      <td>1.000000</td>\n      <td>1.000000</td>\n      <td>1.000000</td>\n      <td>1.000000</td>\n      <td>1.000000</td>\n      <td>1.000000</td>\n      <td>1.000000</td>\n      <td>1.000000</td>\n      <td>1998.00000</td>\n    </tr>\n  </tbody>\n</table>\n</div>"
     },
     "execution_count": 13,
     "metadata": {},
     "output_type": "execute_result"
    }
   ],
   "source": [
    "movies.describe()"
   ]
  },
  {
   "cell_type": "markdown",
   "metadata": {},
   "source": [
    "Only numeric columns are included by default. A single column (`pd.Series`) has a describe function too"
   ]
  },
  {
   "cell_type": "code",
   "execution_count": 14,
   "metadata": {
    "ExecuteTime": {
     "start_time": "2023-04-24T19:17:36.693325Z",
     "end_time": "2023-04-24T19:17:36.708948Z"
    }
   },
   "outputs": [
    {
     "data": {
      "text/plain": "count                             1681\nmean     1989-07-16 12:53:32.373587072\nmin                1922-01-01 00:00:00\n25%                1993-01-01 00:00:00\n50%                1995-01-01 00:00:00\n75%                1996-10-18 00:00:00\nmax                1998-10-23 00:00:00\nName: release_date, dtype: object"
     },
     "execution_count": 14,
     "metadata": {},
     "output_type": "execute_result"
    }
   ],
   "source": [
    "movies.release_date.describe(datetime_is_numeric=True)"
   ]
  },
  {
   "cell_type": "markdown",
   "metadata": {
    "deletable": false,
    "editable": false,
    "nbgrader": {
     "cell_type": "markdown",
     "checksum": "dd9739dd73a276f49d35d31c79c3216c",
     "grade": false,
     "grade_id": "cell-9d81ccf665ea37a4",
     "locked": true,
     "schema_version": 3,
     "solution": false,
     "task": false
    }
   },
   "source": [
    "Numberic statistics are available as separate functions too:\n",
    "\n",
    "1. count: number of non-NA cells. NA is **NOT** the same as 0\n",
    "1. mean: average\n",
    "1. std: standard deviation\n",
    "1. var: variance\n",
    "1. min, max\n",
    "\n",
    "etc.\n",
    "\n",
    "`numeric_only=True` excludes date and string columns."
   ]
  },
  {
   "cell_type": "code",
   "execution_count": 15,
   "metadata": {
    "ExecuteTime": {
     "start_time": "2023-04-24T19:18:00.706619Z",
     "end_time": "2023-04-24T19:18:00.722248Z"
    }
   },
   "outputs": [
    {
     "data": {
      "text/plain": "unknown           0.001189\naction            0.149227\nadventure         0.080262\nanimation         0.024970\nchildren          0.072533\ncomedy            0.300238\ncrime             0.064804\ndocumentary       0.029727\ndrama             0.431034\nfantasy           0.013080\nfilm_noir         0.014269\nhorror            0.054697\nmusical           0.033294\nmystery           0.036266\nromance           0.146849\nsci_fi            0.060048\nthriller          0.149227\nwar               0.042212\nwestern           0.016052\nyear           1989.386080\ndtype: float64"
     },
     "execution_count": 15,
     "metadata": {},
     "output_type": "execute_result"
    }
   ],
   "source": [
    "movies.mean(numeric_only=True)"
   ]
  },
  {
   "cell_type": "markdown",
   "metadata": {
    "deletable": false,
    "editable": false,
    "nbgrader": {
     "cell_type": "markdown",
     "checksum": "0523b7e1a414a9c24dc146141cc33f3b",
     "grade": false,
     "grade_id": "cell-5f7a284cb0920557",
     "locked": true,
     "schema_version": 3,
     "solution": false,
     "task": false
    }
   },
   "source": [
    "# Basic queries\n",
    "\n",
    "## Which movies were released in 1956?"
   ]
  },
  {
   "cell_type": "code",
   "execution_count": 16,
   "metadata": {
    "ExecuteTime": {
     "start_time": "2023-04-24T19:18:05.252059Z",
     "end_time": "2023-04-24T19:18:05.307233Z"
    }
   },
   "outputs": [
    {
     "data": {
      "text/plain": "                                                       title release_date  \\\nmovie_id                                                                    \n434                                  Forbidden Planet (1956)   1956-01-01   \n495                       Around the World in 80 Days (1956)   1956-01-01   \n614                                             Giant (1956)   1956-01-01   \n1577      Death in the Garden (Mort en ce jardin, La) (1956)   1956-01-01   \n\n                                                                                 imdb_url  \\\nmovie_id                                                                                    \n434                          http://us.imdb.com/M/title-exact?Forbidden%20Planet%20(1956)   \n495       http://us.imdb.com/M/title-exact?Around%20the%20World%20in%2080%20Days%20(1956)   \n614                                       http://us.imdb.com/M/title-exact?Giant%20(1956)   \n1577                                http://us.imdb.com/Title?Mort+en+ce+jardin,+La+(1956)   \n\n          unknown  action  adventure  animation  children  comedy  crime  ...  \\\nmovie_id                                                                  ...   \n434             0       0          0          0         0       0      0  ...   \n495             0       0          1          0         0       1      0  ...   \n614             0       0          0          0         0       0      0  ...   \n1577            0       0          0          0         0       0      0  ...   \n\n          film_noir  horror  musical  mystery  romance  sci_fi  thriller  war  \\\nmovie_id                                                                        \n434               0       0        0        0        0       1         0    0   \n495               0       0        0        0        0       0         0    0   \n614               0       0        0        0        0       0         0    0   \n1577              0       0        0        0        0       0         0    0   \n\n          western    year  \nmovie_id                   \n434             0  1956.0  \n495             0  1956.0  \n614             0  1956.0  \n1577            0  1956.0  \n\n[4 rows x 23 columns]",
      "text/html": "<div>\n<style scoped>\n    .dataframe tbody tr th:only-of-type {\n        vertical-align: middle;\n    }\n\n    .dataframe tbody tr th {\n        vertical-align: top;\n    }\n\n    .dataframe thead th {\n        text-align: right;\n    }\n</style>\n<table border=\"1\" class=\"dataframe\">\n  <thead>\n    <tr style=\"text-align: right;\">\n      <th></th>\n      <th>title</th>\n      <th>release_date</th>\n      <th>imdb_url</th>\n      <th>unknown</th>\n      <th>action</th>\n      <th>adventure</th>\n      <th>animation</th>\n      <th>children</th>\n      <th>comedy</th>\n      <th>crime</th>\n      <th>...</th>\n      <th>film_noir</th>\n      <th>horror</th>\n      <th>musical</th>\n      <th>mystery</th>\n      <th>romance</th>\n      <th>sci_fi</th>\n      <th>thriller</th>\n      <th>war</th>\n      <th>western</th>\n      <th>year</th>\n    </tr>\n    <tr>\n      <th>movie_id</th>\n      <th></th>\n      <th></th>\n      <th></th>\n      <th></th>\n      <th></th>\n      <th></th>\n      <th></th>\n      <th></th>\n      <th></th>\n      <th></th>\n      <th></th>\n      <th></th>\n      <th></th>\n      <th></th>\n      <th></th>\n      <th></th>\n      <th></th>\n      <th></th>\n      <th></th>\n      <th></th>\n      <th></th>\n    </tr>\n  </thead>\n  <tbody>\n    <tr>\n      <th>434</th>\n      <td>Forbidden Planet (1956)</td>\n      <td>1956-01-01</td>\n      <td>http://us.imdb.com/M/title-exact?Forbidden%20Planet%20(1956)</td>\n      <td>0</td>\n      <td>0</td>\n      <td>0</td>\n      <td>0</td>\n      <td>0</td>\n      <td>0</td>\n      <td>0</td>\n      <td>...</td>\n      <td>0</td>\n      <td>0</td>\n      <td>0</td>\n      <td>0</td>\n      <td>0</td>\n      <td>1</td>\n      <td>0</td>\n      <td>0</td>\n      <td>0</td>\n      <td>1956.0</td>\n    </tr>\n    <tr>\n      <th>495</th>\n      <td>Around the World in 80 Days (1956)</td>\n      <td>1956-01-01</td>\n      <td>http://us.imdb.com/M/title-exact?Around%20the%20World%20in%2080%20Days%20(1956)</td>\n      <td>0</td>\n      <td>0</td>\n      <td>1</td>\n      <td>0</td>\n      <td>0</td>\n      <td>1</td>\n      <td>0</td>\n      <td>...</td>\n      <td>0</td>\n      <td>0</td>\n      <td>0</td>\n      <td>0</td>\n      <td>0</td>\n      <td>0</td>\n      <td>0</td>\n      <td>0</td>\n      <td>0</td>\n      <td>1956.0</td>\n    </tr>\n    <tr>\n      <th>614</th>\n      <td>Giant (1956)</td>\n      <td>1956-01-01</td>\n      <td>http://us.imdb.com/M/title-exact?Giant%20(1956)</td>\n      <td>0</td>\n      <td>0</td>\n      <td>0</td>\n      <td>0</td>\n      <td>0</td>\n      <td>0</td>\n      <td>0</td>\n      <td>...</td>\n      <td>0</td>\n      <td>0</td>\n      <td>0</td>\n      <td>0</td>\n      <td>0</td>\n      <td>0</td>\n      <td>0</td>\n      <td>0</td>\n      <td>0</td>\n      <td>1956.0</td>\n    </tr>\n    <tr>\n      <th>1577</th>\n      <td>Death in the Garden (Mort en ce jardin, La) (1956)</td>\n      <td>1956-01-01</td>\n      <td>http://us.imdb.com/Title?Mort+en+ce+jardin,+La+(1956)</td>\n      <td>0</td>\n      <td>0</td>\n      <td>0</td>\n      <td>0</td>\n      <td>0</td>\n      <td>0</td>\n      <td>0</td>\n      <td>...</td>\n      <td>0</td>\n      <td>0</td>\n      <td>0</td>\n      <td>0</td>\n      <td>0</td>\n      <td>0</td>\n      <td>0</td>\n      <td>0</td>\n      <td>0</td>\n      <td>1956.0</td>\n    </tr>\n  </tbody>\n</table>\n<p>4 rows × 23 columns</p>\n</div>"
     },
     "execution_count": 16,
     "metadata": {},
     "output_type": "execute_result"
    }
   ],
   "source": [
    "movies[movies.release_date.dt.year==1956]"
   ]
  },
  {
   "cell_type": "markdown",
   "metadata": {
    "deletable": false,
    "editable": false,
    "nbgrader": {
     "cell_type": "markdown",
     "checksum": "de29a219c564a8dca317fc82c893c0e8",
     "grade": false,
     "grade_id": "cell-6594c85c56b84bcd",
     "locked": true,
     "schema_version": 3,
     "solution": false,
     "task": false
    }
   },
   "source": [
    "## How many movies were released in the 80s?\n",
    "\n",
    "Let's print 5 examples too."
   ]
  },
  {
   "cell_type": "code",
   "execution_count": 17,
   "metadata": {
    "ExecuteTime": {
     "start_time": "2023-04-24T19:18:10.455847Z",
     "end_time": "2023-04-24T19:18:10.466174Z"
    }
   },
   "outputs": [
    {
     "name": "stdout",
     "output_type": "stream",
     "text": [
      "107 movies were released in the 80s.\n",
      "\n",
      "A few examples:\n",
      "Full Metal Jacket (1987)\n",
      "Once Upon a Time in America (1984)\n",
      "Fox and the Hound, The (1981)\n",
      "Hungarian Fairy Tale, A (1987)\n",
      "On Golden Pond (1981)\n"
     ]
    }
   ],
   "source": [
    "d = movies[(movies.release_date.dt.year >=  1980) & (movies.release_date.dt.year < 1990)]\n",
    "print(f\"{len(d)} movies were released in the 80s.\")\n",
    "print(\"\\nA few examples:\")\n",
    "print(\"\\n\".join(d.sample(5).title))"
   ]
  },
  {
   "cell_type": "markdown",
   "metadata": {
    "deletable": false,
    "editable": false,
    "nbgrader": {
     "cell_type": "markdown",
     "checksum": "7ada8424639faa0e36faf5741abfac7a",
     "grade": false,
     "grade_id": "cell-09f9c5454a628494",
     "locked": true,
     "schema_version": 3,
     "solution": false,
     "task": false
    }
   },
   "source": [
    "## When were the Die Hard movies released?"
   ]
  },
  {
   "cell_type": "code",
   "execution_count": 18,
   "metadata": {
    "ExecuteTime": {
     "start_time": "2023-04-24T19:18:15.769721Z",
     "end_time": "2023-04-24T19:18:15.800983Z"
    }
   },
   "outputs": [
    {
     "data": {
      "text/plain": "                                      title release_date  \\\nmovie_id                                                   \n144                         Die Hard (1988)   1988-01-01   \n226                       Die Hard 2 (1990)   1990-01-01   \n550       Die Hard: With a Vengeance (1995)   1995-01-01   \n\n                                                                              imdb_url  \\\nmovie_id                                                                                 \n144                               http://us.imdb.com/M/title-exact?Die%20Hard%20(1988)   \n226                           http://us.imdb.com/M/title-exact?Die%20Hard%202%20(1990)   \n550       http://us.imdb.com/M/title-exact?Die%20Hard:%20With%20a%20Vengeance%20(1995)   \n\n          unknown  action  adventure  animation  children  comedy  crime  ...  \\\nmovie_id                                                                  ...   \n144             0       1          0          0         0       0      0  ...   \n226             0       1          0          0         0       0      0  ...   \n550             0       1          0          0         0       0      0  ...   \n\n          film_noir  horror  musical  mystery  romance  sci_fi  thriller  war  \\\nmovie_id                                                                        \n144               0       0        0        0        0       0         1    0   \n226               0       0        0        0        0       0         1    0   \n550               0       0        0        0        0       0         1    0   \n\n          western    year  \nmovie_id                   \n144             0  1988.0  \n226             0  1990.0  \n550             0  1995.0  \n\n[3 rows x 23 columns]",
      "text/html": "<div>\n<style scoped>\n    .dataframe tbody tr th:only-of-type {\n        vertical-align: middle;\n    }\n\n    .dataframe tbody tr th {\n        vertical-align: top;\n    }\n\n    .dataframe thead th {\n        text-align: right;\n    }\n</style>\n<table border=\"1\" class=\"dataframe\">\n  <thead>\n    <tr style=\"text-align: right;\">\n      <th></th>\n      <th>title</th>\n      <th>release_date</th>\n      <th>imdb_url</th>\n      <th>unknown</th>\n      <th>action</th>\n      <th>adventure</th>\n      <th>animation</th>\n      <th>children</th>\n      <th>comedy</th>\n      <th>crime</th>\n      <th>...</th>\n      <th>film_noir</th>\n      <th>horror</th>\n      <th>musical</th>\n      <th>mystery</th>\n      <th>romance</th>\n      <th>sci_fi</th>\n      <th>thriller</th>\n      <th>war</th>\n      <th>western</th>\n      <th>year</th>\n    </tr>\n    <tr>\n      <th>movie_id</th>\n      <th></th>\n      <th></th>\n      <th></th>\n      <th></th>\n      <th></th>\n      <th></th>\n      <th></th>\n      <th></th>\n      <th></th>\n      <th></th>\n      <th></th>\n      <th></th>\n      <th></th>\n      <th></th>\n      <th></th>\n      <th></th>\n      <th></th>\n      <th></th>\n      <th></th>\n      <th></th>\n      <th></th>\n    </tr>\n  </thead>\n  <tbody>\n    <tr>\n      <th>144</th>\n      <td>Die Hard (1988)</td>\n      <td>1988-01-01</td>\n      <td>http://us.imdb.com/M/title-exact?Die%20Hard%20(1988)</td>\n      <td>0</td>\n      <td>1</td>\n      <td>0</td>\n      <td>0</td>\n      <td>0</td>\n      <td>0</td>\n      <td>0</td>\n      <td>...</td>\n      <td>0</td>\n      <td>0</td>\n      <td>0</td>\n      <td>0</td>\n      <td>0</td>\n      <td>0</td>\n      <td>1</td>\n      <td>0</td>\n      <td>0</td>\n      <td>1988.0</td>\n    </tr>\n    <tr>\n      <th>226</th>\n      <td>Die Hard 2 (1990)</td>\n      <td>1990-01-01</td>\n      <td>http://us.imdb.com/M/title-exact?Die%20Hard%202%20(1990)</td>\n      <td>0</td>\n      <td>1</td>\n      <td>0</td>\n      <td>0</td>\n      <td>0</td>\n      <td>0</td>\n      <td>0</td>\n      <td>...</td>\n      <td>0</td>\n      <td>0</td>\n      <td>0</td>\n      <td>0</td>\n      <td>0</td>\n      <td>0</td>\n      <td>1</td>\n      <td>0</td>\n      <td>0</td>\n      <td>1990.0</td>\n    </tr>\n    <tr>\n      <th>550</th>\n      <td>Die Hard: With a Vengeance (1995)</td>\n      <td>1995-01-01</td>\n      <td>http://us.imdb.com/M/title-exact?Die%20Hard:%20With%20a%20Vengeance%20(1995)</td>\n      <td>0</td>\n      <td>1</td>\n      <td>0</td>\n      <td>0</td>\n      <td>0</td>\n      <td>0</td>\n      <td>0</td>\n      <td>...</td>\n      <td>0</td>\n      <td>0</td>\n      <td>0</td>\n      <td>0</td>\n      <td>0</td>\n      <td>0</td>\n      <td>1</td>\n      <td>0</td>\n      <td>0</td>\n      <td>1995.0</td>\n    </tr>\n  </tbody>\n</table>\n<p>3 rows × 23 columns</p>\n</div>"
     },
     "execution_count": 18,
     "metadata": {},
     "output_type": "execute_result"
    }
   ],
   "source": [
    "movies[movies.title.str.contains('Die Hard')]"
   ]
  },
  {
   "cell_type": "markdown",
   "metadata": {
    "deletable": false,
    "editable": false,
    "nbgrader": {
     "cell_type": "markdown",
     "checksum": "e10fedd283f42a64d06a3a35fe5a880b",
     "grade": false,
     "grade_id": "cell-a69cd2ca4e37cd58",
     "locked": true,
     "schema_version": 3,
     "solution": false,
     "task": false
    }
   },
   "source": [
    "Die Hard 4 and 5 are missing. This is because the dataset only contains movies released between:"
   ]
  },
  {
   "cell_type": "code",
   "execution_count": 19,
   "metadata": {
    "ExecuteTime": {
     "start_time": "2023-04-24T19:18:20.197745Z",
     "end_time": "2023-04-24T19:18:20.213371Z"
    }
   },
   "outputs": [
    {
     "data": {
      "text/plain": "(Timestamp('1922-01-01 00:00:00'), Timestamp('1998-10-23 00:00:00'))"
     },
     "execution_count": 19,
     "metadata": {},
     "output_type": "execute_result"
    }
   ],
   "source": [
    "movies.release_date.min(), movies.release_date.max()"
   ]
  },
  {
   "cell_type": "markdown",
   "metadata": {
    "deletable": false,
    "editable": false,
    "nbgrader": {
     "cell_type": "markdown",
     "checksum": "4911e14f9667eb0e9ceb74c386136ffa",
     "grade": false,
     "grade_id": "cell-69584761ceee55a0",
     "locked": true,
     "schema_version": 3,
     "solution": false,
     "task": false
    }
   },
   "source": [
    "and Die Hard 4 and 5 were released in 2007 and 2013 respectively."
   ]
  },
  {
   "cell_type": "markdown",
   "metadata": {
    "deletable": false,
    "editable": false,
    "nbgrader": {
     "cell_type": "markdown",
     "checksum": "de0fb894f6d7606bf52718e9034baad6",
     "grade": false,
     "grade_id": "cell-6b406aaa7a9b18cf",
     "locked": true,
     "schema_version": 3,
     "solution": false,
     "task": false
    }
   },
   "source": [
    "## How many movies are both action and romance? What about action or romance?\n",
    "\n",
    "Make sure you parenthesize the conditions, otherwise pandas won't understand what to apply the & and | operation to!"
   ]
  },
  {
   "cell_type": "code",
   "execution_count": 20,
   "metadata": {
    "ExecuteTime": {
     "start_time": "2023-04-24T19:18:33.983309Z",
     "end_time": "2023-04-24T19:18:34.014580Z"
    }
   },
   "outputs": [
    {
     "name": "stdout",
     "output_type": "stream",
     "text": [
      "Action and romance: 25\n",
      "Action or romance: 473\n"
     ]
    }
   ],
   "source": [
    "print(\"Action and romance:\", len(movies[(movies.action==1) & (movies.romance==1)]))\n",
    "print(\"Action or romance:\", len(movies[(movies.action==1) | (movies.romance==1)]))"
   ]
  },
  {
   "cell_type": "markdown",
   "metadata": {
    "deletable": false,
    "editable": false,
    "nbgrader": {
     "cell_type": "markdown",
     "checksum": "a95b63c9605043e2db02cf7103855b65",
     "grade": false,
     "grade_id": "cell-57fe4c09f9c621a4",
     "locked": true,
     "schema_version": 3,
     "solution": false,
     "task": false
    }
   },
   "source": [
    "# Task 1: Simple queries\n",
    "\n",
    "## Q1.1 Are there dramas for children? (2 points)\n",
    "\n",
    "Filter the dataframe for drama movies for children."
   ]
  },
  {
   "cell_type": "code",
   "execution_count": 28,
   "metadata": {
    "deletable": false,
    "nbgrader": {
     "cell_type": "code",
     "checksum": "babbb27820695d0acac79fed19983605",
     "grade": false,
     "grade_id": "cell-a2747665ec930c22",
     "locked": false,
     "schema_version": 3,
     "solution": true,
     "task": false
    },
    "ExecuteTime": {
     "start_time": "2023-04-24T19:21:53.717347Z",
     "end_time": "2023-04-24T19:21:53.736898Z"
    }
   },
   "outputs": [
    {
     "name": "stdout",
     "output_type": "stream",
     "text": [
      "Dramas for children: 19\n"
     ]
    }
   ],
   "source": [
    "children_drama = movies[(movies.children == 1) & (movies.drama == 1)]\n",
    "print(\"Dramas for children:\", len(children_drama))"
   ]
  },
  {
   "cell_type": "markdown",
   "metadata": {},
   "source": [
    "Run the assert scripts to check your solution."
   ]
  },
  {
   "cell_type": "code",
   "execution_count": 29,
   "metadata": {
    "deletable": false,
    "editable": false,
    "nbgrader": {
     "cell_type": "code",
     "checksum": "b363145d18a2e2816f848d4414966215",
     "grade": true,
     "grade_id": "cell-6a76089ff247f0bb",
     "locked": true,
     "points": 2,
     "schema_version": 3,
     "solution": false,
     "task": false
    },
    "ExecuteTime": {
     "start_time": "2023-04-24T19:21:55.886550Z",
     "end_time": "2023-04-24T19:21:55.895848Z"
    }
   },
   "outputs": [],
   "source": [
    "assert isinstance(children_drama, pd.DataFrame)\n",
    "assert len(children_drama) == 19\n",
    "assert 'Bogus (1996)' in children_drama.title.values\n",
    "assert 'Sliding Doors (1998)' not in children_drama.title.values"
   ]
  },
  {
   "cell_type": "markdown",
   "metadata": {
    "deletable": false,
    "editable": false,
    "nbgrader": {
     "cell_type": "markdown",
     "checksum": "10adc3ef09657257720b10062340e23d",
     "grade": false,
     "grade_id": "cell-9da6a5f60f31c907",
     "locked": true,
     "schema_version": 3,
     "solution": false,
     "task": false
    }
   },
   "source": [
    "## Q1.2 What is the oldest movie? (2 points)"
   ]
  },
  {
   "cell_type": "code",
   "execution_count": 41,
   "metadata": {
    "deletable": false,
    "nbgrader": {
     "cell_type": "code",
     "checksum": "ff97dcb917e65d0499cdfb2466564470",
     "grade": false,
     "grade_id": "cell-2cf05203d5cbfb46",
     "locked": false,
     "schema_version": 3,
     "solution": true,
     "task": false
    },
    "ExecuteTime": {
     "start_time": "2023-04-24T19:33:44.681950Z",
     "end_time": "2023-04-24T19:33:44.713207Z"
    }
   },
   "outputs": [
    {
     "name": "stdout",
     "output_type": "stream",
     "text": [
      "oldest movie is:  Nosferatu (Nosferatu, eine Symphonie des Grauens) (1922)\n"
     ]
    }
   ],
   "source": [
    "oldest_release_date = movies['release_date'].min()\n",
    "oldest_movie = movies[movies['release_date'] == oldest_release_date].iloc[0]\n",
    "oldest_movie_title =  oldest_movie['title']\n",
    "print(\"oldest movie is: \", oldest_movie_title)"
   ]
  },
  {
   "cell_type": "code",
   "execution_count": 40,
   "metadata": {
    "deletable": false,
    "editable": false,
    "nbgrader": {
     "cell_type": "code",
     "checksum": "b9b7d4bcc15ce4734de04af5b59198ca",
     "grade": true,
     "grade_id": "cell-2425d912a2d151a9",
     "locked": true,
     "points": 2,
     "schema_version": 3,
     "solution": false,
     "task": false
    },
    "ExecuteTime": {
     "start_time": "2023-04-24T19:25:44.532736Z",
     "end_time": "2023-04-24T19:25:44.552596Z"
    }
   },
   "outputs": [],
   "source": [
    "assert oldest_movie_title == 'Nosferatu (Nosferatu, eine Symphonie des Grauens) (1922)'"
   ]
  },
  {
   "cell_type": "markdown",
   "metadata": {
    "deletable": false,
    "editable": false,
    "nbgrader": {
     "cell_type": "markdown",
     "checksum": "0ba505d72f57e265793a1a3bc3804c2a",
     "grade": false,
     "grade_id": "cell-64ffe411c1ab3494",
     "locked": true,
     "schema_version": 3,
     "solution": false,
     "task": false
    }
   },
   "source": [
    "## Q1.3 What is the frequency of each genre? In other words how many movies are tagged as action, drama etc. (2 points)\n",
    "\n",
    "The list of genres is given below."
   ]
  },
  {
   "cell_type": "code",
   "execution_count": 44,
   "metadata": {
    "deletable": false,
    "nbgrader": {
     "cell_type": "code",
     "checksum": "89166892887899daddc91597fb89173b",
     "grade": false,
     "grade_id": "cell-bae41280b657c0d8",
     "locked": false,
     "schema_version": 3,
     "solution": true,
     "task": false
    },
    "ExecuteTime": {
     "start_time": "2023-04-24T19:43:26.511572Z",
     "end_time": "2023-04-24T19:43:26.568991Z"
    }
   },
   "outputs": [
    {
     "name": "stdout",
     "output_type": "stream",
     "text": [
      "Genre frequencies:  action         251\n",
      "adventure      135\n",
      "animation       42\n",
      "children       122\n",
      "comedy         505\n",
      "crime          109\n",
      "documentary     50\n",
      "drama          725\n",
      "fantasy         22\n",
      "film_noir       24\n",
      "horror          92\n",
      "musical         56\n",
      "mystery         61\n",
      "romance        247\n",
      "sci_fi         101\n",
      "thriller       251\n",
      "war             71\n",
      "western         27\n",
      "dtype: int64\n"
     ]
    }
   ],
   "source": [
    "genres = ['action', 'adventure', 'animation', 'children', 'comedy', 'crime',\n",
    "          'documentary', 'drama', 'fantasy', 'film_noir', 'horror', 'musical',\n",
    "          'mystery', 'romance', 'sci_fi', 'thriller', 'war', 'western']\n",
    "\n",
    "genre_frequency = movies[genres].sum()\n",
    "print(\"Genre frequencies: \", genre_frequency)"
   ]
  },
  {
   "cell_type": "code",
   "execution_count": 43,
   "metadata": {
    "deletable": false,
    "editable": false,
    "nbgrader": {
     "cell_type": "code",
     "checksum": "d8ce940988d413eea44b1353cdf439a5",
     "grade": true,
     "grade_id": "cell-2514fb16cda6bf10",
     "locked": true,
     "points": 2,
     "schema_version": 3,
     "solution": false,
     "task": false
    },
    "ExecuteTime": {
     "start_time": "2023-04-24T19:43:11.977459Z",
     "end_time": "2023-04-24T19:43:11.998769Z"
    }
   },
   "outputs": [],
   "source": [
    "assert len(genre_frequency) == len(genres)\n",
    "for genre in genres:\n",
    "    assert genre in genre_frequency.index\n",
    "    \n",
    "assert genre_frequency.loc['musical'] == 56\n",
    "assert genre_frequency.loc['thriller'] == 251"
   ]
  },
  {
   "cell_type": "markdown",
   "metadata": {
    "deletable": false,
    "editable": false,
    "nbgrader": {
     "cell_type": "markdown",
     "checksum": "541d0268e32ec9d5bfcefe0eefe06b57",
     "grade": false,
     "grade_id": "cell-048aab4f3de80d31",
     "locked": true,
     "schema_version": 3,
     "solution": false,
     "task": false
    }
   },
   "source": [
    "## Q1.4 How many genres does each movie have? (3 points)\n",
    "\n",
    "You need a similar summation as the previous one but for each row. Add the count as a new column to the `movies` Dataframe."
   ]
  },
  {
   "cell_type": "code",
   "execution_count": 49,
   "metadata": {
    "deletable": false,
    "nbgrader": {
     "cell_type": "code",
     "checksum": "54fc324ed891edaed5d1bee6c6799d48",
     "grade": false,
     "grade_id": "cell-b27b422b368745b5",
     "locked": false,
     "schema_version": 3,
     "solution": true,
     "task": false
    },
    "ExecuteTime": {
     "start_time": "2023-04-24T19:48:26.924361Z",
     "end_time": "2023-04-24T19:48:26.939999Z"
    }
   },
   "outputs": [],
   "source": [
    "movies['genre_count'] = movies[genres].sum(axis=1)"
   ]
  },
  {
   "cell_type": "code",
   "execution_count": 50,
   "metadata": {
    "deletable": false,
    "editable": false,
    "nbgrader": {
     "cell_type": "code",
     "checksum": "93c46e9bd1db92e576753b773114a285",
     "grade": true,
     "grade_id": "cell-dc9dd7da4f10d7fb",
     "locked": true,
     "points": 3,
     "schema_version": 3,
     "solution": false,
     "task": false
    },
    "ExecuteTime": {
     "start_time": "2023-04-24T19:48:29.210768Z",
     "end_time": "2023-04-24T19:48:29.267892Z"
    }
   },
   "outputs": [
    {
     "data": {
      "text/plain": "True"
     },
     "execution_count": 50,
     "metadata": {},
     "output_type": "execute_result"
    }
   ],
   "source": [
    "assert 'genre_count' in movies.columns\n",
    "assert movies['genre_count'].max() == 6\n",
    "assert movies['genre_count'].min() == 0\n",
    "movies.loc[movies['genre_count'].idxmax()]['title'] == 'Empire Strikes Back, The (1980)'\n",
    "# I think there is a missing assert here"
   ]
  },
  {
   "cell_type": "markdown",
   "metadata": {
    "deletable": false,
    "editable": false,
    "nbgrader": {
     "cell_type": "markdown",
     "checksum": "413779363dd59b57242cc4e849893295",
     "grade": false,
     "grade_id": "cell-f61484b7e1b56037",
     "locked": true,
     "schema_version": 3,
     "solution": false,
     "task": false
    }
   },
   "source": [
    "## Q1.5 Which movies have the most genres? (3 points)\n",
    "\n",
    "There is more than one answer, so `idxmax` will not work this time. You should solve this task in two steps. First compute the maximum, then find the rows that match that number."
   ]
  },
  {
   "cell_type": "code",
   "execution_count": 51,
   "metadata": {
    "deletable": false,
    "nbgrader": {
     "cell_type": "code",
     "checksum": "cebc18e427af9c4f7fae9224232cb04a",
     "grade": false,
     "grade_id": "cell-2b6e2b7cf518d44e",
     "locked": false,
     "schema_version": 3,
     "solution": true,
     "task": false
    },
    "ExecuteTime": {
     "start_time": "2023-04-24T19:49:46.707196Z",
     "end_time": "2023-04-24T19:49:46.724301Z"
    }
   },
   "outputs": [],
   "source": [
    "max_genres = movies['genre_count'].max()\n",
    "movies_with_most_genres = movies[movies['genre_count'] == max_genres]"
   ]
  },
  {
   "cell_type": "code",
   "execution_count": 52,
   "metadata": {
    "deletable": false,
    "editable": false,
    "nbgrader": {
     "cell_type": "code",
     "checksum": "f69ec493e711fbe5f22b366ffe2ae7bb",
     "grade": true,
     "grade_id": "cell-1ee07e662ec72eea",
     "locked": true,
     "points": 3,
     "schema_version": 3,
     "solution": false,
     "task": false
    },
    "ExecuteTime": {
     "start_time": "2023-04-24T19:49:49.221492Z",
     "end_time": "2023-04-24T19:49:49.231517Z"
    }
   },
   "outputs": [],
   "source": [
    "assert len(movies_with_most_genres) == 3\n",
    "# 6 is the maximum genre count, all movies have 6 genres\n",
    "assert movies_with_most_genres['genre_count'].unique() == [6]\n",
    "assert 'Empire Strikes Back, The (1980)' in movies_with_most_genres['title'].values"
   ]
  },
  {
   "cell_type": "markdown",
   "metadata": {
    "deletable": false,
    "editable": false,
    "nbgrader": {
     "cell_type": "markdown",
     "checksum": "587f3a6fa3a2cb50d207619f8c17e778",
     "grade": false,
     "grade_id": "cell-3cf16b54bc7cf758",
     "locked": true,
     "schema_version": 3,
     "solution": false,
     "task": false
    }
   },
   "source": [
    "## Q1.6\\* Extract the list of genres as a comma separated string. (4 points)\n",
    "\n",
    "If a movie is tagged drama, thriller and romance, the genre string should be 'drama, thriller, romance'.\n",
    "\n",
    "Since we need to work on multiple fields on each row, we need to use `apply`. The usage of apply is given, it will use the given function and run it on the data. Your task is to implement the `get_genres` function. `get_genres` takes a row as its input and returns the formatted string. You can access each column as `row[column_name]`.\n",
    "\n",
    "You can concatenate a list of strings using the join string function. An example can be seen below."
   ]
  },
  {
   "cell_type": "code",
   "execution_count": 53,
   "metadata": {
    "ExecuteTime": {
     "start_time": "2023-04-24T19:50:27.909515Z",
     "end_time": "2023-04-24T19:50:27.916103Z"
    }
   },
   "outputs": [
    {
     "name": "stdout",
     "output_type": "stream",
     "text": [
      "first | second | third\n"
     ]
    }
   ],
   "source": [
    "list_of_strings = [\"first\", \"second\", \"third\"]\n",
    "print(\" | \".join(list_of_strings))"
   ]
  },
  {
   "cell_type": "markdown",
   "metadata": {},
   "source": [
    "Hint: you can iterate the genres and put the desired elements into an other list using the append method of the second list object."
   ]
  },
  {
   "cell_type": "code",
   "execution_count": 57,
   "metadata": {
    "deletable": false,
    "nbgrader": {
     "cell_type": "code",
     "checksum": "fb41f581671e06a5df9d28e101d13595",
     "grade": false,
     "grade_id": "cell-f032db5e419dfefc",
     "locked": false,
     "schema_version": 3,
     "solution": true,
     "task": false
    },
    "ExecuteTime": {
     "start_time": "2023-04-24T19:53:40.744310Z",
     "end_time": "2023-04-24T19:53:40.760603Z"
    }
   },
   "outputs": [],
   "source": [
    "def get_genres(row):\n",
    "    genre_list = [genre for genre in genres if row[genre] == 1]\n",
    "    return ', '.join(genre_list)\n",
    "\n",
    "movies['genres'] = movies[genres].apply(get_genres, axis=1)"
   ]
  },
  {
   "cell_type": "code",
   "execution_count": 58,
   "metadata": {
    "deletable": false,
    "editable": false,
    "nbgrader": {
     "cell_type": "code",
     "checksum": "7b8e58d47cfdf2cefa2e66fb0078843b",
     "grade": true,
     "grade_id": "cell-87c79e104ceb7547",
     "locked": true,
     "points": 4,
     "schema_version": 3,
     "solution": false,
     "task": false
    },
    "ExecuteTime": {
     "start_time": "2023-04-24T19:53:42.519253Z",
     "end_time": "2023-04-24T19:53:42.561123Z"
    }
   },
   "outputs": [
    {
     "name": "stdout",
     "output_type": "stream",
     "text": [
      "{'romance', 'action', 'sci_fi', 'drama', 'war', 'adventure'}\n"
     ]
    }
   ],
   "source": [
    "assert isinstance(movies['genres'].iloc[0], str)\n",
    "\n",
    "empire_genres = movies[movies['title']=='Empire Strikes Back, The (1980)']['genres'].iloc[0]\n",
    "em_genres = set()\n",
    "for genre in empire_genres.split(\",\"):\n",
    "    em_genres.add(genre.strip())\n",
    "assert em_genres == {'action', 'adventure', 'drama', 'romance', 'sci_fi', 'war'}"
   ]
  },
  {
   "cell_type": "markdown",
   "metadata": {
    "deletable": false,
    "editable": false,
    "nbgrader": {
     "cell_type": "markdown",
     "checksum": "6e7dafc4c277b4f891f3f57adf9db368",
     "grade": false,
     "grade_id": "cell-ac8a35cbdad9d6be",
     "locked": true,
     "schema_version": 3,
     "solution": false,
     "task": false
    }
   },
   "source": [
    "# Task 2: Groupby and visualization \n",
    "\n",
    "How many movies are released each decade? For this we will groupby on a condition:"
   ]
  },
  {
   "cell_type": "code",
   "execution_count": 62,
   "metadata": {
    "ExecuteTime": {
     "start_time": "2023-04-24T19:57:22.903311Z",
     "end_time": "2023-04-24T19:57:22.925172Z"
    }
   },
   "outputs": [
    {
     "data": {
      "text/plain": "year\n1920.0       2\n1930.0      29\n1940.0      45\n1950.0      54\n1960.0      43\n1970.0      53\n1980.0     107\n1990.0    1348\ndtype: int64"
     },
     "execution_count": 62,
     "metadata": {},
     "output_type": "execute_result"
    }
   ],
   "source": [
    "movies.groupby(movies['year'] // 10 * 10).size()"
   ]
  },
  {
   "cell_type": "markdown",
   "metadata": {},
   "source": [
    "Let's plot it on a bar chart. We create the figure and axis objects beforehand. This allows adjusting the figure size and apply other changes to the figure."
   ]
  },
  {
   "cell_type": "code",
   "execution_count": 63,
   "metadata": {
    "ExecuteTime": {
     "start_time": "2023-04-24T19:57:26.288804Z",
     "end_time": "2023-04-24T19:57:26.537687Z"
    }
   },
   "outputs": [
    {
     "data": {
      "text/plain": "<Figure size 1000x600 with 1 Axes>",
      "image/png": "[encoded data removed]"
     },
     "metadata": {},
     "output_type": "display_data"
    }
   ],
   "source": [
    "fig, ax = plt.subplots(1, figsize=(10, 6))\n",
    "movies.groupby(movies['year'] // 10 * 10).size().plot(kind='bar', ax=ax)\n",
    "ax.set_ylabel(\"Movie count\")\n",
    "ax.set_title(\"Movies per decade\")\n",
    "ax.grid(axis='y')"
   ]
  },
  {
   "cell_type": "markdown",
   "metadata": {},
   "source": [
    "Let's zoom into the 90s:"
   ]
  },
  {
   "cell_type": "markdown",
   "metadata": {
    "deletable": false,
    "editable": false,
    "nbgrader": {
     "cell_type": "markdown",
     "checksum": "e4fa53e857e86b6081f032b7b2c42e5f",
     "grade": false,
     "grade_id": "cell-3c3f7e7bf5b01b82",
     "locked": true,
     "schema_version": 3,
     "solution": false,
     "task": false
    }
   },
   "source": [
    "Most movies were released in the late 80s and 90s, let's zoom in. Let's also change the figure size.\n",
    "\n",
    "We create the plot object with one subplot, we then specify which axis pandas should use for plotting (`ax=ax`)."
   ]
  },
  {
   "cell_type": "code",
   "execution_count": 64,
   "metadata": {
    "ExecuteTime": {
     "start_time": "2023-04-24T19:57:30.430730Z",
     "end_time": "2023-04-24T19:57:30.630617Z"
    }
   },
   "outputs": [
    {
     "data": {
      "text/plain": "<Axes: xlabel='year'>"
     },
     "execution_count": 64,
     "metadata": {},
     "output_type": "execute_result"
    },
    {
     "data": {
      "text/plain": "<Figure size 1000x600 with 1 Axes>",
      "image/png": "[encoded data removed]"
     },
     "metadata": {},
     "output_type": "display_data"
    }
   ],
   "source": [
    "fig, ax = plt.subplots(1, figsize=(10, 6))\n",
    "m = movies[movies.year>=1990]\n",
    "m.groupby('year').size().plot(kind='bar', ax=ax)"
   ]
  },
  {
   "cell_type": "markdown",
   "metadata": {},
   "source": [
    "Let's order the previous plot by the number of movies released in an ascending order!"
   ]
  },
  {
   "cell_type": "code",
   "execution_count": 65,
   "metadata": {
    "ExecuteTime": {
     "start_time": "2023-04-24T19:57:36.038579Z",
     "end_time": "2023-04-24T19:57:36.250322Z"
    }
   },
   "outputs": [
    {
     "data": {
      "text/plain": "<Axes: xlabel='year'>"
     },
     "execution_count": 65,
     "metadata": {},
     "output_type": "execute_result"
    },
    {
     "data": {
      "text/plain": "<Figure size 1000x600 with 1 Axes>",
      "image/png": "[encoded data removed]"
     },
     "metadata": {},
     "output_type": "display_data"
    }
   ],
   "source": [
    "fig, ax = plt.subplots(1, figsize=(10, 6))\n",
    "m = movies[movies.year>=1990]\n",
    "m.groupby('year').size().plot(kind='bar', ax=ax)"
   ]
  },
  {
   "cell_type": "markdown",
   "metadata": {},
   "source": [
    "Let's also see this on a pie chart!"
   ]
  },
  {
   "cell_type": "code",
   "execution_count": 66,
   "metadata": {
    "ExecuteTime": {
     "start_time": "2023-04-24T19:57:43.560592Z",
     "end_time": "2023-04-24T19:57:43.703683Z"
    }
   },
   "outputs": [
    {
     "data": {
      "text/plain": "<Axes: >"
     },
     "execution_count": 66,
     "metadata": {},
     "output_type": "execute_result"
    },
    {
     "data": {
      "text/plain": "<Figure size 1000x600 with 1 Axes>",
      "image/png": "[encoded data removed]"
     },
     "metadata": {},
     "output_type": "display_data"
    }
   ],
   "source": [
    "fig, ax = plt.subplots(1, figsize=(10, 6))\n",
    "m = movies[movies.year>=1990]\n",
    "m.groupby('year').size().plot(kind='pie', ax=ax)"
   ]
  },
  {
   "cell_type": "markdown",
   "metadata": {
    "deletable": false,
    "editable": false,
    "nbgrader": {
     "cell_type": "markdown",
     "checksum": "1db752ef07ee007fb5b71cdddd7076a9",
     "grade": false,
     "grade_id": "cell-70a293b988bf9918",
     "locked": true,
     "schema_version": 3,
     "solution": false,
     "task": false
    }
   },
   "source": [
    "## Q2.1 Write a function that takes a genre and groups movies from the 90s of that genre by year.  (3 points)"
   ]
  },
  {
   "cell_type": "code",
   "execution_count": 70,
   "metadata": {
    "deletable": false,
    "nbgrader": {
     "cell_type": "code",
     "checksum": "49c89bb1a69cc5a554968cc949379ba6",
     "grade": false,
     "grade_id": "cell-9ca5a6b8a6cb7e8e",
     "locked": false,
     "schema_version": 3,
     "solution": true,
     "task": false
    },
    "ExecuteTime": {
     "start_time": "2023-04-24T19:58:27.680443Z",
     "end_time": "2023-04-24T19:58:27.699763Z"
    }
   },
   "outputs": [],
   "source": [
    "def groupby_genre(movies_df, genre):\n",
    "    movies_genre_90s = movies_df[(movies_df['year'] >= 1990) & (movies_df[genre] == 1)]\n",
    "    return movies_genre_90s.groupby('year')"
   ]
  },
  {
   "cell_type": "code",
   "execution_count": 71,
   "metadata": {
    "deletable": false,
    "editable": false,
    "nbgrader": {
     "cell_type": "code",
     "checksum": "1a08218cb25b9531c68274de1e70c730",
     "grade": true,
     "grade_id": "cell-6907c9bed92097f8",
     "locked": true,
     "points": 3,
     "schema_version": 3,
     "solution": false,
     "task": false
    },
    "ExecuteTime": {
     "start_time": "2023-04-24T19:58:28.978285Z",
     "end_time": "2023-04-24T19:58:28.996939Z"
    }
   },
   "outputs": [],
   "source": [
    "crime = groupby_genre(movies, 'crime')\n",
    "assert 1993 in crime.groups\n",
    "assert 1989 not in crime.groups\n",
    "assert type(crime) == pd.core.groupby.DataFrameGroupBy\n",
    "assert len(crime) == 8  # 1990, 1992-98\n",
    "assert crime.size().loc[1996] == 21"
   ]
  },
  {
   "cell_type": "markdown",
   "metadata": {
    "deletable": false,
    "editable": false,
    "nbgrader": {
     "cell_type": "markdown",
     "checksum": "08adbe8341ca52d56e08fcea22f4b7ab",
     "grade": false,
     "grade_id": "cell-389ab64a02ec730a",
     "locked": true,
     "schema_version": 3,
     "solution": false,
     "task": false
    }
   },
   "source": [
    "## Q2.2 Plot the number of adventure movies from the 90s on a _bar_ chart. Use your `groupby_genre` function. (2 points)"
   ]
  },
  {
   "cell_type": "code",
   "execution_count": 77,
   "metadata": {
    "deletable": false,
    "nbgrader": {
     "cell_type": "code",
     "checksum": "178c4b22186787a1b659a72e3cd69d63",
     "grade": true,
     "grade_id": "cell-a5318e4a2b8132d5",
     "locked": false,
     "points": 2,
     "schema_version": 3,
     "solution": true,
     "task": false
    },
    "ExecuteTime": {
     "start_time": "2023-04-24T20:05:45.778824Z",
     "end_time": "2023-04-24T20:05:46.013492Z"
    }
   },
   "outputs": [
    {
     "name": "stdout",
     "output_type": "stream",
     "text": [
      "94\n"
     ]
    },
    {
     "data": {
      "text/plain": "<Figure size 1000x600 with 1 Axes>",
      "image/png": "[encoded data removed]"
     },
     "metadata": {},
     "output_type": "display_data"
    }
   ],
   "source": [
    "adventures = groupby_genre(movies, 'adventure')\n",
    "\n",
    "\n",
    "fig, ax = plt.subplots(1, figsize=(10, 6))\n",
    "adventures.size().plot(kind='bar', ax=ax)\n",
    "ax.set_ylabel(\"Adventure movie count\")\n",
    "ax.set_title(\"Adventure movies per year in the 90s\")\n",
    "ax.grid(axis='y')"
   ]
  },
  {
   "cell_type": "markdown",
   "metadata": {
    "deletable": false,
    "editable": false,
    "nbgrader": {
     "cell_type": "markdown",
     "checksum": "1bb6b3eb70e813d66f5484b074328132",
     "grade": false,
     "grade_id": "cell-168b598112431466",
     "locked": true,
     "schema_version": 3,
     "solution": false,
     "task": false
    }
   },
   "source": [
    "# Task 3: String and date manipulation\n",
    "\n",
    "As mentioned before, you can access certain fields and functions of a datetime column by using the ´dt´ notion. Similarly, you can access string functions with the ´str´ notion.\n",
    "\n",
    "For more information visit https://pandas.pydata.org/docs/reference/api/pandas.Series.html and checkout the functions accessible with dt and str.\n"
   ]
  },
  {
   "cell_type": "markdown",
   "metadata": {},
   "source": [
    "Which the movies have titles that contain the word \"cat\"?"
   ]
  },
  {
   "cell_type": "code",
   "execution_count": null,
   "metadata": {},
   "outputs": [],
   "source": [
    "movies[movies.title.str.contains(\"cat\")]"
   ]
  },
  {
   "cell_type": "markdown",
   "metadata": {},
   "source": [
    "We didn't find every instance yet, because we haven't found the ones where the \"cat\" is not capitalized or all caps. To be sure, let's lowercase the titles and search that way."
   ]
  },
  {
   "cell_type": "code",
   "execution_count": null,
   "metadata": {},
   "outputs": [],
   "source": [
    "movies[movies.title.str.lower().str.contains(\"cat\")]"
   ]
  },
  {
   "cell_type": "markdown",
   "metadata": {},
   "source": [
    "## Q3.1 How many movies have title longer than 40 characters? (3 points)"
   ]
  },
  {
   "cell_type": "code",
   "execution_count": 88,
   "metadata": {
    "deletable": false,
    "nbgrader": {
     "cell_type": "code",
     "checksum": "11355a695decad6106459e6fe8fd3917",
     "grade": false,
     "grade_id": "cell-d5beda202663df05",
     "locked": false,
     "schema_version": 3,
     "solution": true,
     "task": false
    },
    "ExecuteTime": {
     "start_time": "2023-04-24T20:27:53.071554Z",
     "end_time": "2023-04-24T20:27:53.151132Z"
    }
   },
   "outputs": [
    {
     "name": "stdout",
     "output_type": "stream",
     "text": [
      "102\n"
     ]
    }
   ],
   "source": [
    "def long_titles(movies_df):\n",
    "    return len(movies_df[movies_df.title.str.lower().str.len() > 40])\n",
    "\n",
    "print(long_titles(movies))"
   ]
  },
  {
   "cell_type": "code",
   "execution_count": 89,
   "metadata": {
    "deletable": false,
    "editable": false,
    "nbgrader": {
     "cell_type": "code",
     "checksum": "9d5a05d0e04a03cd7d830fbb16243e33",
     "grade": true,
     "grade_id": "cell-2d40ffa2513e88db",
     "locked": true,
     "points": 3,
     "schema_version": 3,
     "solution": false,
     "task": false
    },
    "ExecuteTime": {
     "start_time": "2023-04-24T20:28:02.400393Z",
     "end_time": "2023-04-24T20:28:02.483596Z"
    }
   },
   "outputs": [],
   "source": [
    "title_cnt = long_titles(movies)\n",
    "assert type(title_cnt) == int"
   ]
  },
  {
   "cell_type": "markdown",
   "metadata": {
    "deletable": false,
    "editable": false,
    "nbgrader": {
     "cell_type": "markdown",
     "checksum": "ad413cabca3344fc0ea079363cc56043",
     "grade": false,
     "grade_id": "cell-0089f99b85f39d9f",
     "locked": true,
     "schema_version": 3,
     "solution": false,
     "task": false
    }
   },
   "source": [
    "## Q3.2 We're building a traditional lexicon of the titles. What is the distribution of initial letters (i.e. how many titles start with S?)? Plot it on a bar chart.\n",
    "\n",
    "### Step 1. Compute frequencies. (3 points)\n",
    "\n",
    "Hint: use the groupby function for this!"
   ]
  },
  {
   "cell_type": "code",
   "execution_count": 91,
   "metadata": {
    "deletable": false,
    "nbgrader": {
     "cell_type": "code",
     "checksum": "965d5d832ab9c9dc3ef198cee18a9e70",
     "grade": false,
     "grade_id": "cell-dabfa47380bc1e62",
     "locked": false,
     "schema_version": 3,
     "solution": true,
     "task": false
    },
    "ExecuteTime": {
     "start_time": "2023-04-24T20:32:26.922077Z",
     "end_time": "2023-04-24T20:32:26.984069Z"
    }
   },
   "outputs": [
    {
     "name": "stdout",
     "output_type": "stream",
     "text": [
      "title\n",
      "'      1\n",
      "1      4\n",
      "2      3\n",
      "3      2\n",
      "8      3\n",
      "A     94\n",
      "B    148\n",
      "C    118\n",
      "D     80\n",
      "E     38\n",
      "F     94\n",
      "G     71\n",
      "H     73\n",
      "I     45\n",
      "J     38\n",
      "K     29\n",
      "L     79\n",
      "M    131\n",
      "N     50\n",
      "O     28\n",
      "P     80\n",
      "Q      7\n",
      "R     66\n",
      "S    181\n",
      "T    108\n",
      "U     20\n",
      "V     16\n",
      "W     65\n",
      "Y      7\n",
      "Z      1\n",
      "u      1\n",
      "Á      1\n",
      "Name: title, dtype: int64\n"
     ]
    }
   ],
   "source": [
    "def compute_initial_letter_frequencies(movies_df):\n",
    "    initial_letters = movies_df['title'].str[0]\n",
    "    return initial_letters.groupby(initial_letters).size()\n",
    "\n",
    "print(compute_initial_letter_frequencies(movies))"
   ]
  },
  {
   "cell_type": "code",
   "execution_count": 92,
   "metadata": {
    "deletable": false,
    "editable": false,
    "nbgrader": {
     "cell_type": "code",
     "checksum": "9da360ba5f49e8ce50c45480b467b35a",
     "grade": true,
     "grade_id": "cell-1cf234dbd25388f3",
     "locked": true,
     "points": 3,
     "schema_version": 3,
     "solution": false,
     "task": false
    },
    "ExecuteTime": {
     "start_time": "2023-04-24T20:32:37.644613Z",
     "end_time": "2023-04-24T20:32:37.708560Z"
    }
   },
   "outputs": [],
   "source": [
    "initial = compute_initial_letter_frequencies(movies)\n",
    "\n",
    "assert type(initial) == pd.Series\n",
    "\n",
    "# frequency counts should be >= 1\n",
    "assert initial.min() >= 1\n",
    "\n",
    "# the largest one cannot be larger than the full dataframe\n",
    "assert initial.max() <= len(movies)"
   ]
  },
  {
   "cell_type": "markdown",
   "metadata": {
    "deletable": false,
    "editable": false,
    "nbgrader": {
     "cell_type": "markdown",
     "checksum": "bad0c294ea5a9dc45657bcf43d08ecfa",
     "grade": false,
     "grade_id": "cell-69e24b8b6775d432",
     "locked": true,
     "schema_version": 3,
     "solution": false,
     "task": false
    }
   },
   "source": [
    "### Step 2. Plot it on a bar chart in descending order. (3 points)\n",
    "\n",
    "The most common letter should be the first bar.\n",
    "\n",
    "Make the figure wider and fix the axis labels"
   ]
  },
  {
   "cell_type": "code",
   "execution_count": 95,
   "metadata": {
    "deletable": false,
    "nbgrader": {
     "cell_type": "code",
     "checksum": "2e9d98b30c4b5aece1e461d7bbea258f",
     "grade": true,
     "grade_id": "cell-f8be622dc83ce159",
     "locked": false,
     "points": 3,
     "schema_version": 3,
     "solution": true,
     "task": false
    },
    "ExecuteTime": {
     "start_time": "2023-04-24T20:37:51.543726Z",
     "end_time": "2023-04-24T20:37:52.914411Z"
    }
   },
   "outputs": [
    {
     "data": {
      "text/plain": "Text(0.5, 1.0, 'Distribution of Initial Letters in Movie Titles')"
     },
     "execution_count": 95,
     "metadata": {},
     "output_type": "execute_result"
    },
    {
     "data": {
      "text/plain": "<Figure size 1200x600 with 1 Axes>",
      "image/png": "[encoded data removed]"
     },
     "metadata": {},
     "output_type": "display_data"
    }
   ],
   "source": [
    "fig, ax = plt.subplots(figsize=(12, 6))\n",
    "ax = initial.sort_values(ascending=False).plot(kind=\"bar\")\n",
    "ax.set_xlabel('Initial Letter')\n",
    "ax.set_ylabel('Frequency')\n",
    "ax.set_title('Distribution of Initial Letters in Movie Titles')"
   ]
  },
  {
   "cell_type": "markdown",
   "metadata": {
    "deletable": false,
    "editable": false,
    "nbgrader": {
     "cell_type": "markdown",
     "checksum": "c532409cf7de90cb8240f91e85a176ed",
     "grade": false,
     "grade_id": "cell-a463d2e0a9d5cdd8",
     "locked": true,
     "schema_version": 3,
     "solution": false,
     "task": false
    }
   },
   "source": [
    "## Q3.3 Plot the distribution of release day (day of month) on a pie chart.\n",
    "\n",
    "### Step 1. groupby (2 points)"
   ]
  },
  {
   "cell_type": "code",
   "execution_count": 99,
   "metadata": {
    "deletable": false,
    "nbgrader": {
     "cell_type": "code",
     "checksum": "edc98feffcc97249e49480539b9b7a13",
     "grade": false,
     "grade_id": "cell-da489566f50a0b7b",
     "locked": false,
     "schema_version": 3,
     "solution": true,
     "task": false
    },
    "ExecuteTime": {
     "start_time": "2023-04-24T20:42:52.691527Z",
     "end_time": "2023-04-24T20:42:52.810510Z"
    }
   },
   "outputs": [
    {
     "name": "stdout",
     "output_type": "stream",
     "text": [
      "<pandas.core.groupby.generic.DataFrameGroupBy object at 0x000001FB509D3BE0>\n"
     ]
    }
   ],
   "source": [
    "def groupby_release_day(movies_df):\n",
    "    return movies_df.groupby(movies_df['release_date'].dt.day)\n",
    "\n",
    "print(groupby_release_day(movies))"
   ]
  },
  {
   "cell_type": "code",
   "execution_count": 100,
   "metadata": {
    "deletable": false,
    "editable": false,
    "nbgrader": {
     "cell_type": "code",
     "checksum": "dddd09514d4c4bcffa5ac775dc3879f6",
     "grade": true,
     "grade_id": "cell-65c96d3f7e86681f",
     "locked": true,
     "points": 2,
     "schema_version": 3,
     "solution": false,
     "task": false
    },
    "ExecuteTime": {
     "start_time": "2023-04-24T20:43:00.403408Z",
     "end_time": "2023-04-24T20:43:00.476574Z"
    }
   },
   "outputs": [],
   "source": [
    "by_day = groupby_release_day(movies)\n",
    "assert type(by_day) == pd.core.groupby.DataFrameGroupBy\n",
    "\n",
    "# the longest month is 31 days\n",
    "assert len(by_day) < 32\n",
    "\n",
    "# shouldn't group on day of week\n",
    "assert len(by_day) > 7"
   ]
  },
  {
   "cell_type": "markdown",
   "metadata": {
    "deletable": false,
    "editable": false,
    "nbgrader": {
     "cell_type": "markdown",
     "checksum": "a786561c9e2635fce1f679aa87991c64",
     "grade": false,
     "grade_id": "cell-d03e44889d893fd1",
     "locked": true,
     "schema_version": 3,
     "solution": false,
     "task": false
    }
   },
   "source": [
    "### Step 2. pie chart. Add percent values. (3 points)\n",
    "\n",
    "You should see that the 1st day of the month was by far the most common release day. The reason for this is most likely the lack of a specified day in the original release date (May 1996 instead of May 13, 1996)."
   ]
  },
  {
   "cell_type": "code",
   "execution_count": 102,
   "metadata": {
    "deletable": false,
    "nbgrader": {
     "cell_type": "code",
     "checksum": "a133ef16f926747228be6b7f242a2ef5",
     "grade": true,
     "grade_id": "cell-20cf6a942fc495c3",
     "locked": false,
     "points": 3,
     "schema_version": 3,
     "solution": true,
     "task": false
    }
   },
   "outputs": [
    {
     "ename": "AttributeError",
     "evalue": "'DataFrameGroupBy' object has no attribute 'index'",
     "output_type": "error",
     "traceback": [
      "\u001B[1;31m---------------------------------------------------------------------------\u001B[0m",
      "\u001B[1;31mAttributeError\u001B[0m                            Traceback (most recent call last)",
      "Cell \u001B[1;32mIn[102], line 3\u001B[0m\n\u001B[0;32m      1\u001B[0m fig, ax \u001B[38;5;241m=\u001B[39m plt\u001B[38;5;241m.\u001B[39msubplots(\u001B[38;5;241m1\u001B[39m, figsize\u001B[38;5;241m=\u001B[39m(\u001B[38;5;241m10\u001B[39m, \u001B[38;5;241m6\u001B[39m))\n\u001B[0;32m      2\u001B[0m values \u001B[38;5;241m=\u001B[39m groupby_release_day(movies)\n\u001B[1;32m----> 3\u001B[0m ax\u001B[38;5;241m.\u001B[39mpie(values, labels\u001B[38;5;241m=\u001B[39m\u001B[43mvalues\u001B[49m\u001B[38;5;241;43m.\u001B[39;49m\u001B[43mindex\u001B[49m\u001B[38;5;241m.\u001B[39mmap(\u001B[38;5;28mstr\u001B[39m), autopct\u001B[38;5;241m=\u001B[39m\u001B[38;5;124m'\u001B[39m\u001B[38;5;132;01m%1.1f\u001B[39;00m\u001B[38;5;132;01m%%\u001B[39;00m\u001B[38;5;124m'\u001B[39m)\n\u001B[0;32m      4\u001B[0m ax\u001B[38;5;241m.\u001B[39mset_title(\u001B[38;5;124m'\u001B[39m\u001B[38;5;124mDistribution of Release Days\u001B[39m\u001B[38;5;124m'\u001B[39m)\n\u001B[0;32m      5\u001B[0m plt\u001B[38;5;241m.\u001B[39mshow()\n",
      "File \u001B[1;32m~\\miniconda3\\lib\\site-packages\\pandas\\core\\groupby\\groupby.py:987\u001B[0m, in \u001B[0;36mGroupBy.__getattr__\u001B[1;34m(self, attr)\u001B[0m\n\u001B[0;32m    984\u001B[0m \u001B[38;5;28;01mif\u001B[39;00m attr \u001B[38;5;129;01min\u001B[39;00m \u001B[38;5;28mself\u001B[39m\u001B[38;5;241m.\u001B[39mobj:\n\u001B[0;32m    985\u001B[0m     \u001B[38;5;28;01mreturn\u001B[39;00m \u001B[38;5;28mself\u001B[39m[attr]\n\u001B[1;32m--> 987\u001B[0m \u001B[38;5;28;01mraise\u001B[39;00m \u001B[38;5;167;01mAttributeError\u001B[39;00m(\n\u001B[0;32m    988\u001B[0m     \u001B[38;5;124mf\u001B[39m\u001B[38;5;124m\"\u001B[39m\u001B[38;5;124m'\u001B[39m\u001B[38;5;132;01m{\u001B[39;00m\u001B[38;5;28mtype\u001B[39m(\u001B[38;5;28mself\u001B[39m)\u001B[38;5;241m.\u001B[39m\u001B[38;5;18m__name__\u001B[39m\u001B[38;5;132;01m}\u001B[39;00m\u001B[38;5;124m'\u001B[39m\u001B[38;5;124m object has no attribute \u001B[39m\u001B[38;5;124m'\u001B[39m\u001B[38;5;132;01m{\u001B[39;00mattr\u001B[38;5;132;01m}\u001B[39;00m\u001B[38;5;124m'\u001B[39m\u001B[38;5;124m\"\u001B[39m\n\u001B[0;32m    989\u001B[0m )\n",
      "\u001B[1;31mAttributeError\u001B[0m: 'DataFrameGroupBy' object has no attribute 'index'"
     ]
    },
    {
     "data": {
      "text/plain": "<Figure size 1000x600 with 1 Axes>",
      "image/png": "[encoded data removed]"
     },
     "metadata": {},
     "output_type": "display_data"
    }
   ],
   "source": [
    "raise NotImplementedError()"
   ]
  },
  {
   "cell_type": "markdown",
   "metadata": {
    "deletable": false,
    "editable": false,
    "nbgrader": {
     "cell_type": "markdown",
     "checksum": "f423d7e54ce58651d6de922925acbc9c",
     "grade": false,
     "grade_id": "cell-4b7e5452586de9b9",
     "locked": true,
     "schema_version": 3,
     "solution": false,
     "task": false
    }
   },
   "source": [
    "# Task 4: Handling multiple dataframes\n",
    "\n",
    "The main table of this dataset is `u.data` with 100000 ratings. We can load it the following way:"
   ]
  },
  {
   "cell_type": "code",
   "execution_count": 132,
   "metadata": {
    "deletable": false,
    "editable": false,
    "nbgrader": {
     "cell_type": "code",
     "checksum": "2507b5afb615a154626d85367e36008a",
     "grade": false,
     "grade_id": "cell-8220174b6d50dc75",
     "locked": true,
     "schema_version": 3,
     "solution": false,
     "task": false
    },
    "ExecuteTime": {
     "start_time": "2023-04-24T21:06:40.538514Z",
     "end_time": "2023-04-24T21:06:40.644531Z"
    }
   },
   "outputs": [],
   "source": [
    "cols = ['user', 'movie_id', 'rating', 'timestamp']\n",
    "ratings = pd.read_table(os.path.join(data_dir, \"u.data\"), names=cols)\n",
    "ratings.head()"
   ]
  },
  {
   "cell_type": "markdown",
   "metadata": {
    "deletable": false,
    "editable": false,
    "nbgrader": {
     "cell_type": "markdown",
     "checksum": "e4d7ce5b8f9c854acc8dba6252563bb6",
     "grade": false,
     "grade_id": "cell-fef5a88dc44bb7db",
     "locked": true,
     "schema_version": 3,
     "solution": false,
     "task": false
    }
   },
   "source": [
    "The `timestamp` column is a Unix timestamp, let's convert it to `pd.DateTime`:"
   ]
  },
  {
   "cell_type": "code",
   "execution_count": 133,
   "metadata": {
    "ExecuteTime": {
     "start_time": "2023-04-24T21:06:42.846294Z",
     "end_time": "2023-04-24T21:06:42.905884Z"
    }
   },
   "outputs": [],
   "source": [
    "ratings['timestamp'] = pd.to_datetime(ratings.timestamp, unit='s')\n",
    "ratings.head()"
   ]
  },
  {
   "cell_type": "markdown",
   "metadata": {
    "deletable": false,
    "editable": false,
    "nbgrader": {
     "cell_type": "markdown",
     "checksum": "9591311ba7aa91171f15a47b69bcdf4a",
     "grade": false,
     "grade_id": "cell-0979673a37cec23e",
     "locked": true,
     "schema_version": 3,
     "solution": false,
     "task": false
    }
   },
   "source": [
    "Merging it with `movies`:"
   ]
  },
  {
   "cell_type": "code",
   "execution_count": 134,
   "metadata": {
    "ExecuteTime": {
     "start_time": "2023-04-24T21:06:46.460466Z",
     "end_time": "2023-04-24T21:06:46.587351Z"
    }
   },
   "outputs": [],
   "source": [
    "ratings = pd.merge(ratings, movies, left_on='movie_id', right_index=True)"
   ]
  },
  {
   "cell_type": "markdown",
   "metadata": {
    "deletable": false,
    "editable": false,
    "nbgrader": {
     "cell_type": "markdown",
     "checksum": "cd16715040ac3aaa1fbd6ab9059c8376",
     "grade": false,
     "grade_id": "cell-ff26e3dc28a9e55f",
     "locked": true,
     "schema_version": 3,
     "solution": false,
     "task": false
    }
   },
   "source": [
    "## Q4.1 Load the users table from the file `ml-100k/u.user`. (3 points)\n",
    "\n",
    "`u.users` has the following columns: `user_id, age, gender, occupation, zip`. Use `user_id` as the index."
   ]
  },
  {
   "cell_type": "code",
   "execution_count": 135,
   "metadata": {
    "deletable": false,
    "nbgrader": {
     "cell_type": "code",
     "checksum": "65534cce3f18a92f06a884355c27d033",
     "grade": false,
     "grade_id": "cell-c84f059ab0858ad6",
     "locked": false,
     "schema_version": 3,
     "solution": true,
     "task": false
    },
    "ExecuteTime": {
     "start_time": "2023-04-24T21:06:48.333137Z",
     "end_time": "2023-04-24T21:06:48.379327Z"
    }
   },
   "outputs": [],
   "source": [
    "cols = ['user_id', 'age', 'gender', 'occupation', 'zip']\n",
    "users = pd.read_csv(os.path.join(data_dir, \"u.user\"), delimiter='|', names=cols, index_col=0)"
   ]
  },
  {
   "cell_type": "code",
   "execution_count": 109,
   "metadata": {
    "deletable": false,
    "editable": false,
    "nbgrader": {
     "cell_type": "code",
     "checksum": "44c19dc585d3bd94822386f6dc3130fb",
     "grade": true,
     "grade_id": "cell-adfa8911523a6781",
     "locked": true,
     "points": 3,
     "schema_version": 3,
     "solution": false,
     "task": false
    },
    "ExecuteTime": {
     "start_time": "2023-04-24T20:52:29.795258Z",
     "end_time": "2023-04-24T20:52:29.863523Z"
    }
   },
   "outputs": [],
   "source": [
    "assert type(users) == pd.DataFrame\n",
    "\n",
    "# there is no user with index=0\n",
    "assert 0 not in users.index\n",
    "assert users.shape == (943, 4)\n",
    "assert list(users.columns) == ['age', 'gender', 'occupation', 'zip']"
   ]
  },
  {
   "cell_type": "markdown",
   "metadata": {
    "deletable": false,
    "editable": false,
    "nbgrader": {
     "cell_type": "markdown",
     "checksum": "50b630a6764fd085bf916d6f079c7d11",
     "grade": false,
     "grade_id": "cell-92504474983df579",
     "locked": true,
     "schema_version": 3,
     "solution": false,
     "task": false
    }
   },
   "source": [
    "## Q4.2 Merge the `users` table with `ratings`. Do not discard any columns. (3 points)"
   ]
  },
  {
   "cell_type": "code",
   "execution_count": 136,
   "metadata": {
    "deletable": false,
    "nbgrader": {
     "cell_type": "code",
     "checksum": "7caa48d339ca2fb22439b64eb4053cbd",
     "grade": false,
     "grade_id": "cell-031b283c08dfc692",
     "locked": false,
     "schema_version": 3,
     "solution": true,
     "task": false
    },
    "ExecuteTime": {
     "start_time": "2023-04-24T21:06:50.617062Z",
     "end_time": "2023-04-24T21:06:50.736120Z"
    }
   },
   "outputs": [],
   "source": [
    "# ratings = ratings.merge...\n",
    "ratings = pd.merge(ratings, users, left_on='user', right_index=True)\n"
   ]
  },
  {
   "cell_type": "code",
   "execution_count": 121,
   "metadata": {
    "deletable": false,
    "editable": false,
    "nbgrader": {
     "cell_type": "code",
     "checksum": "1f153f28b84ec4427baa1be22536e8b1",
     "grade": true,
     "grade_id": "cell-c52a7864aa05df2c",
     "locked": true,
     "points": 3,
     "schema_version": 3,
     "solution": false,
     "task": false
    },
    "ExecuteTime": {
     "start_time": "2023-04-24T20:59:14.339735Z",
     "end_time": "2023-04-24T20:59:14.371336Z"
    }
   },
   "outputs": [],
   "source": [
    "assert type(ratings) == pd.DataFrame\n",
    "# all movies have ratings (nunique return the number of unique elements)\n",
    "assert ratings['movie_id'].nunique() == 1682"
   ]
  },
  {
   "cell_type": "markdown",
   "metadata": {
    "deletable": false,
    "editable": false,
    "nbgrader": {
     "cell_type": "markdown",
     "checksum": "c26f8bb794cccd78f6177b97ee776131",
     "grade": false,
     "grade_id": "cell-e6553737d60e3ca4",
     "locked": true,
     "schema_version": 3,
     "solution": false,
     "task": false
    }
   },
   "source": [
    "## Q4.3 Which 5 movies received the most ratings and how many times were they rated? (2 points)"
   ]
  },
  {
   "cell_type": "code",
   "execution_count": 137,
   "metadata": {
    "deletable": false,
    "nbgrader": {
     "cell_type": "code",
     "checksum": "d18285a524b0f1f0afe739be2bf19367",
     "grade": false,
     "grade_id": "cell-0c6c66684c52f82d",
     "locked": false,
     "schema_version": 3,
     "solution": true,
     "task": false
    },
    "ExecuteTime": {
     "start_time": "2023-04-24T21:07:00.065651Z",
     "end_time": "2023-04-24T21:07:00.112530Z"
    }
   },
   "outputs": [],
   "source": [
    "most_rated = ratings.groupby('movie_id').size().sort_values(ascending=True)[:5]"
   ]
  },
  {
   "cell_type": "code",
   "execution_count": 126,
   "metadata": {
    "deletable": false,
    "editable": false,
    "nbgrader": {
     "cell_type": "code",
     "checksum": "6c18811be3cda20726af424c0b603b13",
     "grade": true,
     "grade_id": "cell-e7eb675d0048f978",
     "locked": true,
     "points": 2,
     "schema_version": 3,
     "solution": false,
     "task": false
    }
   },
   "outputs": [],
   "source": [
    "assert isinstance(most_rated, pd.Series)\n",
    "assert len(most_rated) == 5\n",
    "assert 'Liar Liar (1997)' in most_rated\n",
    "assert most_rated.loc['Fargo (1996)'] > 500"
   ]
  },
  {
   "cell_type": "markdown",
   "metadata": {
    "deletable": false,
    "editable": false,
    "nbgrader": {
     "cell_type": "markdown",
     "checksum": "5cffb6d20bab382fefa8646a747e1543",
     "grade": false,
     "grade_id": "cell-87fc1397de6dc1ca",
     "locked": true,
     "schema_version": 3,
     "solution": false,
     "task": false
    }
   },
   "source": [
    "## Q4.4 How strict are people by occupation? Compute the average of ratings by occupation. Plot it on a bar chart in descending order.\n",
    "\n",
    "### Step 1. Compute the averages by occupation. (2 points)"
   ]
  },
  {
   "cell_type": "code",
   "execution_count": 138,
   "metadata": {
    "deletable": false,
    "nbgrader": {
     "cell_type": "code",
     "checksum": "cadaeee306d5e78cee4eaca355b801b4",
     "grade": false,
     "grade_id": "cell-fd12d2c11bb674a3",
     "locked": false,
     "schema_version": 3,
     "solution": true,
     "task": false
    },
    "ExecuteTime": {
     "start_time": "2023-04-24T21:07:01.904402Z",
     "end_time": "2023-04-24T21:07:01.981055Z"
    }
   },
   "outputs": [],
   "source": [
    "# mean_by_occupation = ...\n",
    "raise NotImplementedError()"
   ]
  },
  {
   "cell_type": "code",
   "execution_count": null,
   "metadata": {
    "deletable": false,
    "editable": false,
    "nbgrader": {
     "cell_type": "code",
     "checksum": "ad6ba0c47e012074aad52004f693a204",
     "grade": true,
     "grade_id": "cell-b31d75967991f9c8",
     "locked": true,
     "points": 2,
     "schema_version": 3,
     "solution": false,
     "task": false
    }
   },
   "outputs": [],
   "source": [
    "assert isinstance(mean_by_occupation, pd.Series)\n",
    "# ratings are between 1 and 5\n",
    "assert mean_by_occupation.min() > 1\n",
    "assert mean_by_occupation.max() < 5"
   ]
  },
  {
   "cell_type": "markdown",
   "metadata": {
    "deletable": false,
    "editable": false,
    "nbgrader": {
     "cell_type": "markdown",
     "checksum": "e16376526e71c1542f5a4c6d464503ac",
     "grade": false,
     "grade_id": "cell-dd4859f28bdba5bb",
     "locked": true,
     "schema_version": 3,
     "solution": false,
     "task": false
    }
   },
   "source": [
    "### Step 2. Plot it on a bar chart. (2 points)\n",
    "\n",
    "Extra point: make the bar chart wider and restring the y-axis to (2.5, 4)."
   ]
  },
  {
   "cell_type": "code",
   "execution_count": null,
   "metadata": {
    "deletable": false,
    "nbgrader": {
     "cell_type": "code",
     "checksum": "e1ec28668de17e3b9e655e286f2002da",
     "grade": true,
     "grade_id": "cell-0823e3f094e93df6",
     "locked": false,
     "points": 2,
     "schema_version": 3,
     "solution": true,
     "task": false
    }
   },
   "outputs": [],
   "source": [
    "# YOUR CODE HERE\n",
    "raise NotImplementedError()"
   ]
  },
  {
   "cell_type": "markdown",
   "metadata": {
    "deletable": false,
    "editable": false,
    "nbgrader": {
     "cell_type": "markdown",
     "checksum": "352850567544ace41fd37700a4559de6",
     "grade": false,
     "grade_id": "cell-d820b4cb52675d3c",
     "locked": true,
     "schema_version": 3,
     "solution": false,
     "task": false
    }
   },
   "source": [
    "## Q4.5 How likely are different age groups to rate movies? Compute the number of ratings by age grouped into 10-19, 20-29, etc. Plot it on a bar chart.\n",
    "\n",
    "### Step 1. Number of ratings by age group (3 points)\n",
    "\n",
    "You can do this without `pd.cut` or `pd.qcut`. Think about how we handled decades earlier."
   ]
  },
  {
   "cell_type": "code",
   "execution_count": null,
   "metadata": {
    "deletable": false,
    "nbgrader": {
     "cell_type": "code",
     "checksum": "adc8eb4b9e0c0a386eddfa02ae1ed03e",
     "grade": false,
     "grade_id": "cell-a82cc48886fbc62f",
     "locked": false,
     "schema_version": 3,
     "solution": true,
     "task": false
    }
   },
   "outputs": [],
   "source": [
    "def count_ratings_by_age_group(ratings):\n",
    "    # YOUR CODE HERE\n",
    "    raise NotImplementedError()"
   ]
  },
  {
   "cell_type": "code",
   "execution_count": null,
   "metadata": {
    "deletable": false,
    "editable": false,
    "nbgrader": {
     "cell_type": "code",
     "checksum": "7a2271de7d7d192e771b67c33f8b1d02",
     "grade": true,
     "grade_id": "cell-73dee03b16d3defa",
     "locked": true,
     "points": 3,
     "schema_version": 3,
     "solution": false,
     "task": false
    }
   },
   "outputs": [],
   "source": [
    "rating_by_age_group = count_ratings_by_age_group(ratings)\n",
    "\n",
    "assert isinstance(rating_by_age_group, pd.Series)\n",
    "assert 20 in rating_by_age_group\n",
    "assert 25 not in rating_by_age_group"
   ]
  },
  {
   "cell_type": "markdown",
   "metadata": {
    "deletable": false,
    "editable": false,
    "nbgrader": {
     "cell_type": "markdown",
     "checksum": "e5e7e27e1a4f9dd3caa752d8e27b221e",
     "grade": false,
     "grade_id": "cell-f96dcbfba5aef63f",
     "locked": true,
     "schema_version": 3,
     "solution": false,
     "task": false
    }
   },
   "source": [
    "### Step 2. Plot it on a bar chart. (2 points)"
   ]
  },
  {
   "cell_type": "code",
   "execution_count": null,
   "metadata": {
    "deletable": false,
    "nbgrader": {
     "cell_type": "code",
     "checksum": "06da6fa11d3584f515fa542a2880497e",
     "grade": true,
     "grade_id": "cell-530304f15f352665",
     "locked": false,
     "points": 2,
     "schema_version": 3,
     "solution": true,
     "task": false
    }
   },
   "outputs": [],
   "source": [
    "# YOUR CODE HERE\n",
    "raise NotImplementedError()"
   ]
  },
  {
   "cell_type": "markdown",
   "metadata": {
    "deletable": false,
    "editable": false,
    "nbgrader": {
     "cell_type": "markdown",
     "checksum": "6af8c60bb9640d94fc24170a8251a19d",
     "grade": false,
     "grade_id": "cell-4ed241c7570ed438",
     "locked": true,
     "schema_version": 3,
     "solution": false,
     "task": false
    }
   },
   "source": [
    "# Task 5: Advanced tasks\n",
    "\n",
    "## Q5.1 What is the mean of ratings by genre?\n",
    "\n",
    "If a movie has multiple genres, include it in every genre. \n",
    "\n",
    "### Step 1. Compute the mean scores. (5 points)\n",
    "\n",
    "There are many ways to solve this problem. Try to do it without explicit for loops."
   ]
  },
  {
   "cell_type": "code",
   "execution_count": null,
   "metadata": {
    "deletable": false,
    "nbgrader": {
     "cell_type": "code",
     "checksum": "644e1fa7438db0cc5b6e0fd45d80639e",
     "grade": false,
     "grade_id": "cell-8292ca56814c90e6",
     "locked": false,
     "schema_version": 3,
     "solution": true,
     "task": false
    }
   },
   "outputs": [],
   "source": [
    "genres = ['unknown', 'action', 'adventure', 'animation',\n",
    "       'children', 'comedy', 'crime', 'documentary', 'drama', 'fantasy',\n",
    "       'film_noir', 'horror', 'musical', 'mystery', 'romance', 'sci_fi',\n",
    "       'thriller', 'war', 'western']\n",
    "\n",
    "def compute_mean_rating_by_genre(ratings):\n",
    "    # YOUR CODE HERE\n",
    "    raise NotImplementedError()"
   ]
  },
  {
   "cell_type": "code",
   "execution_count": null,
   "metadata": {
    "deletable": false,
    "editable": false,
    "nbgrader": {
     "cell_type": "code",
     "checksum": "43f2ee4254756e3da528a169e9d73e56",
     "grade": true,
     "grade_id": "cell-a8868b7db8c3a75c",
     "locked": true,
     "points": 5,
     "schema_version": 3,
     "solution": false,
     "task": false
    }
   },
   "outputs": [],
   "source": [
    "genre_rating = compute_mean_rating_by_genre(ratings)\n",
    "assert len(genre_rating) == len(genres)\n",
    "# all means are between 3 and 4\n",
    "assert genre_rating.min() > 3.0\n",
    "assert genre_rating.max() < 4.0\n",
    "# film noir is rated highest\n",
    "assert genre_rating.idxmax() == 'film_noir'\n",
    "for g in genres:\n",
    "    assert g in genre_rating.index\n",
    "assert abs(genre_rating.loc['adventure'] - 3.503528) < 1e-3"
   ]
  },
  {
   "cell_type": "markdown",
   "metadata": {
    "deletable": false,
    "editable": false,
    "nbgrader": {
     "cell_type": "markdown",
     "checksum": "87ebefd3b4bb1816fc83c2f15fb21ff5",
     "grade": false,
     "grade_id": "cell-37bd1a67daa851bc",
     "locked": true,
     "schema_version": 3,
     "solution": false,
     "task": false
    }
   },
   "source": [
    "### Step 2. Plot it on a bar chart in descending order by score. Set the limits of the y-axis to (2.5, 4). (2 points)"
   ]
  },
  {
   "cell_type": "code",
   "execution_count": null,
   "metadata": {
    "deletable": false,
    "nbgrader": {
     "cell_type": "code",
     "checksum": "b62c521219dd081d26dfe24cdd103dbc",
     "grade": true,
     "grade_id": "cell-e55184587ae7df0f",
     "locked": false,
     "points": 2,
     "schema_version": 3,
     "solution": true,
     "task": false
    }
   },
   "outputs": [],
   "source": [
    "# YOUR CODE HERE\n",
    "raise NotImplementedError()"
   ]
  },
  {
   "cell_type": "markdown",
   "metadata": {
    "deletable": false,
    "editable": false,
    "nbgrader": {
     "cell_type": "markdown",
     "checksum": "353f4ecce6e4bbce59726c37d7a4296c",
     "grade": false,
     "grade_id": "cell-c22c1dd1a588c2b0",
     "locked": true,
     "schema_version": 3,
     "solution": false,
     "task": false
    }
   },
   "source": [
    "## Q5.2 Plot the average ratings by occupation _and_ gender on a multiple bar plot. (4 points)\n",
    "\n",
    "Tip: there is an example of a multiple bar plot [here](https://pandas.pydata.org/pandas-docs/stable/user_guide/visualization.html)\n",
    "\n",
    "Tip 2: there are many ways to solve this problem, one is a one-liner using `DataFrame.unstack`. It's a little longer if you make the figure nicer."
   ]
  },
  {
   "cell_type": "code",
   "execution_count": null,
   "metadata": {
    "deletable": false,
    "nbgrader": {
     "cell_type": "code",
     "checksum": "9512ec25f649d8bad7cdd01ebdd3ea5f",
     "grade": true,
     "grade_id": "cell-5021952b9f0c448a",
     "locked": false,
     "points": 4,
     "schema_version": 3,
     "solution": true,
     "task": false
    }
   },
   "outputs": [],
   "source": [
    "# YOUR CODE HERE\n",
    "raise NotImplementedError()"
   ]
  },
  {
   "cell_type": "markdown",
   "metadata": {
    "deletable": false,
    "editable": false,
    "nbgrader": {
     "cell_type": "markdown",
     "checksum": "78936aa13bfbd76c4eba7baaf6294464",
     "grade": false,
     "grade_id": "cell-1de490e57ca493e9",
     "locked": true,
     "schema_version": 3,
     "solution": false,
     "task": false
    }
   },
   "source": [
    "## Q5.3 What hour of the day do different occupations rate? (3 points)\n",
    "\n",
    "Create a function that computes the number of ratings per hour for a single occupation."
   ]
  },
  {
   "cell_type": "code",
   "execution_count": null,
   "metadata": {
    "deletable": false,
    "nbgrader": {
     "cell_type": "code",
     "checksum": "d5acc77c1b68e5d1494a2748495e8538",
     "grade": false,
     "grade_id": "cell-f5c5b35fe828a728",
     "locked": false,
     "schema_version": 3,
     "solution": true,
     "task": false
    }
   },
   "outputs": [],
   "source": [
    "def count_rating_by_hour_occupation(ratings, occupation):\n",
    "    # YOUR CODE HERE\n",
    "    raise NotImplementedError()"
   ]
  },
  {
   "cell_type": "code",
   "execution_count": null,
   "metadata": {
    "deletable": false,
    "editable": false,
    "nbgrader": {
     "cell_type": "code",
     "checksum": "6f9070d1643e5c971455caf624db7a82",
     "grade": true,
     "grade_id": "cell-ff66560b26007766",
     "locked": true,
     "points": 3,
     "schema_version": 3,
     "solution": false,
     "task": false
    }
   },
   "outputs": [],
   "source": [
    "marketing = count_rating_by_hour_occupation(ratings, \"marketing\")\n",
    "assert isinstance(marketing, pd.Series)\n",
    "\n",
    "# there are only 24 hours\n",
    "assert len(marketing) < 25"
   ]
  },
  {
   "cell_type": "markdown",
   "metadata": {
    "deletable": false,
    "editable": false,
    "nbgrader": {
     "cell_type": "markdown",
     "checksum": "80b4670282d737d4c7c064c7536fe096",
     "grade": false,
     "grade_id": "cell-b5cdb2018c92be77",
     "locked": true,
     "schema_version": 3,
     "solution": false,
     "task": false
    }
   },
   "source": [
    "## Q5.4 Plot the rating hours of marketing employees and programmers on two pie charts. (4 points)\n",
    "\n",
    "A two-subplot figure is created. `ax` is an array of the two subplots, use `ax[0]` for marketing employees and `ax[1]` for programmers. Set the titles of the subplots accordingly."
   ]
  },
  {
   "cell_type": "code",
   "execution_count": null,
   "metadata": {
    "deletable": false,
    "nbgrader": {
     "cell_type": "code",
     "checksum": "0918830938a145812f74d2c36946123d",
     "grade": true,
     "grade_id": "cell-a231aafe97336083",
     "locked": false,
     "points": 4,
     "schema_version": 3,
     "solution": true,
     "task": false
    }
   },
   "outputs": [],
   "source": [
    "fig, ax = plt.subplots(1, 2, figsize=(12, 6))\n",
    "# YOUR CODE HERE\n",
    "raise NotImplementedError()"
   ]
  },
  {
   "cell_type": "markdown",
   "metadata": {
    "deletable": false,
    "editable": false,
    "nbgrader": {
     "cell_type": "markdown",
     "checksum": "cbcd636f60013e209b7f73cf82984c0a",
     "grade": false,
     "grade_id": "cell-fde6b5b52f7e3b43",
     "locked": true,
     "schema_version": 3,
     "solution": false,
     "task": false
    }
   },
   "source": [
    "## Q5.5 Do older people prefer movies with longer titles? Compute the average title length by age group (0-10, 10-20).\n",
    "\n",
    "### Step1. compute mean length (4 points)\n",
    "\n",
    "Tip: You should probably create a copy of some of the columns."
   ]
  },
  {
   "cell_type": "code",
   "execution_count": null,
   "metadata": {
    "deletable": false,
    "nbgrader": {
     "cell_type": "code",
     "checksum": "29edc2883060b43b24aa7a202b613361",
     "grade": false,
     "grade_id": "cell-a477b0d3165cdcd8",
     "locked": false,
     "schema_version": 3,
     "solution": true,
     "task": false
    }
   },
   "outputs": [],
   "source": [
    "def get_mean_length_by_age_group(ratings):\n",
    "    # YOUR CODE HERE\n",
    "    raise NotImplementedError()"
   ]
  },
  {
   "cell_type": "code",
   "execution_count": null,
   "metadata": {
    "deletable": false,
    "editable": false,
    "nbgrader": {
     "cell_type": "code",
     "checksum": "538b7b7f8da9f1f346d912ad72881518",
     "grade": true,
     "grade_id": "cell-3d5dc90bf06f6b36",
     "locked": true,
     "points": 4,
     "schema_version": 3,
     "solution": false,
     "task": false
    }
   },
   "outputs": [],
   "source": [
    "title_len_by_age = get_mean_length_by_age_group(ratings)\n",
    "assert isinstance(title_len_by_age, pd.Series)\n",
    "assert len(title_len_by_age) == 8\n",
    "# titles are long\n",
    "assert title_len_by_age.min() >= 20"
   ]
  },
  {
   "cell_type": "markdown",
   "metadata": {
    "deletable": false,
    "editable": false,
    "nbgrader": {
     "cell_type": "markdown",
     "checksum": "3cf132340b536ba94e96a11eb1da555a",
     "grade": false,
     "grade_id": "cell-58823f30294de150",
     "locked": true,
     "schema_version": 3,
     "solution": false,
     "task": false
    }
   },
   "source": [
    "### Step 2. Plot it on a bar chart. Choose a reasonable range for the y-axis. (2 points)"
   ]
  },
  {
   "cell_type": "code",
   "execution_count": null,
   "metadata": {
    "deletable": false,
    "nbgrader": {
     "cell_type": "code",
     "checksum": "7b2b8037e7f9475855afe2dc0af7ee0f",
     "grade": true,
     "grade_id": "cell-ad06e211e16b0289",
     "locked": false,
     "points": 2,
     "schema_version": 3,
     "solution": true,
     "task": false
    }
   },
   "outputs": [],
   "source": [
    "# YOUR CODE HERE\n",
    "raise NotImplementedError()"
   ]
  },
  {
   "cell_type": "markdown",
   "metadata": {
    "deletable": false,
    "editable": false,
    "nbgrader": {
     "cell_type": "markdown",
     "checksum": "a7fc45353412641a543b41660380fe9f",
     "grade": false,
     "grade_id": "cell-7fe7f89f9a1745c7",
     "locked": true,
     "schema_version": 3,
     "solution": false,
     "task": false
    }
   },
   "source": [
    "## Q5.6 What are the highest rated movies among the movies that were rated at least 50 times? (4 points)\n",
    "\n",
    "Return a Series of the top 10 such movies with their rating."
   ]
  },
  {
   "cell_type": "code",
   "execution_count": null,
   "metadata": {
    "deletable": false,
    "nbgrader": {
     "cell_type": "code",
     "checksum": "30c3189f1cb4d1c1bfbb52f8eaa44005",
     "grade": false,
     "grade_id": "cell-e5a2038cab3b633c",
     "locked": false,
     "schema_version": 3,
     "solution": true,
     "task": false
    }
   },
   "outputs": [],
   "source": [
    "# highest_rated = ...\n",
    "# YOUR CODE HERE\n",
    "raise NotImplementedError()"
   ]
  },
  {
   "cell_type": "code",
   "execution_count": null,
   "metadata": {
    "deletable": false,
    "editable": false,
    "nbgrader": {
     "cell_type": "code",
     "checksum": "14840c25a243cbf8c26088a8fdfb7b6f",
     "grade": true,
     "grade_id": "cell-4780d30a49285fbb",
     "locked": true,
     "points": 4,
     "schema_version": 3,
     "solution": false,
     "task": false
    }
   },
   "outputs": [],
   "source": [
    "assert len(highest_rated) == 10\n",
    "assert abs(highest_rated.max() - 4.491071) < 1e-3\n",
    "assert 'Star Wars (1977)' in highest_rated.index"
   ]
  },
  {
   "cell_type": "markdown",
   "metadata": {
    "deletable": false,
    "editable": false,
    "nbgrader": {
     "cell_type": "markdown",
     "checksum": "cc81a33ea534a77e1e7ad848f6d9e4c5",
     "grade": false,
     "grade_id": "cell-a80ac510ba4fc2a3",
     "locked": true,
     "schema_version": 3,
     "solution": false,
     "task": false
    }
   },
   "source": [
    "Please fill out this [short survey](https://forms.gle/jb8D6uqVD3rp9piw8) after you completed the problems."
   ]
  }
 ],
 "metadata": {
  "kernelspec": {
   "display_name": "Python 3 (ipykernel)",
   "language": "python",
   "name": "python3"
  },
  "language_info": {
   "codemirror_mode": {
    "name": "ipython",
    "version": 3
   },
   "file_extension": ".py",
   "mimetype": "text/x-python",
   "name": "python",
   "nbconvert_exporter": "python",
   "pygments_lexer": "ipython3",
   "version": "3.9.7"
  },
  "toc": {
   "base_numbering": 1,
   "nav_menu": {
    "height": "512px",
    "width": "252px"
   },
   "number_sections": false,
   "sideBar": true,
   "skip_h1_title": false,
   "title_cell": "Table of Contents",
   "title_sidebar": "Contents",
   "toc_cell": true,
   "toc_position": {
    "height": "calc(100% - 180px)",
    "left": "10px",
    "top": "150px",
    "width": "339px"
   },
   "toc_section_display": "block",
   "toc_window_display": true
  }
 },
 "nbformat": 4,
 "nbformat_minor": 4
}
